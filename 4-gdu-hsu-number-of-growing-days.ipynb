{
 "cells": [
  {
   "cell_type": "markdown",
   "metadata": {},
   "source": [
    "### import libraries"
   ]
  },
  {
   "cell_type": "code",
   "execution_count": 43,
   "metadata": {},
   "outputs": [
    {
     "name": "stdout",
     "output_type": "stream",
     "text": [
      "Requirement already satisfied: netCDF4 in /opt/conda/lib/python3.7/site-packages (1.5.3)\n",
      "Requirement already satisfied: numpy>=1.7 in /opt/conda/lib/python3.7/site-packages (from netCDF4) (1.17.3)\n",
      "Requirement already satisfied: cftime in /opt/conda/lib/python3.7/site-packages (from netCDF4) (1.0.4.2)\n"
     ]
    }
   ],
   "source": [
    "! pip install netCDF4"
   ]
  },
  {
   "cell_type": "code",
   "execution_count": 2,
   "metadata": {},
   "outputs": [],
   "source": [
    "import netCDF4 # python API to work with netcdf (.nc) files\n",
    "import os\n",
    "import datetime\n",
    "from osgeo import gdal, ogr, osr\n",
    "import numpy as np # library to work with matrixes and computations in general\n",
    "import matplotlib.pyplot as plt # plotting library\n",
    "from auxiliary_classes import convert_time,convert_time_reverse,kelvin_to_celsius,kelvin_to_celsius_vector,Grid,Image,subImage\n",
    "import json\n",
    "import geojson, gdal, subprocess"
   ]
  },
  {
   "cell_type": "markdown",
   "metadata": {},
   "source": [
    "### auxiliary functions"
   ]
  },
  {
   "cell_type": "code",
   "execution_count": 25,
   "metadata": {},
   "outputs": [],
   "source": [
    "def print_geojson(tname, tvalue, fname, longitude, latitude, startdoc, position,endloop): #for printing to geojson - start,end,attributes\n",
    "    fname = fname +\".geojson\"\n",
    "    pmode=\"a\"\n",
    "    if startdoc==1:\n",
    "        with open(fname, mode=\"w\", encoding='utf-8') as f1: #start of geojson\n",
    "            tstring = \"{\\n\\\"type\\\": \\\"FeatureCollection\\\",\\n\\\"features\\\": [\"\n",
    "            print(tstring, file=f1)\n",
    "            f1.close()\n",
    "    else:\n",
    "        if position==0: #for printing to geojson - geometry, longitude, latitude\n",
    "            tstring = \"\\\"type\\\": \\\"Feature\\\",\\n\\\"geometry\\\": {\\n\\\"type\\\": \\\"Point\\\",\\n\\\"coordinates\\\": [\" + str(longitude) + \",\"+ str(latitude) + \"]\\n},\\n\\\"properties\\\": {\"\n",
    "            fname = fname \n",
    "            with open(fname, mode=pmode, encoding='utf-8') as f1:\n",
    "                print(tstring, file=f1)\n",
    "                f1.close()\n",
    "        elif position==1:  #start of point attributes\n",
    "            with open(fname, mode=pmode, encoding='utf-8') as f1:\n",
    "                print(\"{\", file=f1)\n",
    "                f1.close()  \n",
    "        elif position==2: #print attribute (not last)\n",
    "             with open(fname, mode=pmode, encoding='utf-8') as f1:\n",
    "                ttext = \"\\\"\" + str(tname) + \"\\\": \\\"\" +str(tvalue) + \"\\\",\"\n",
    "                print(ttext, file=f1) \n",
    "                f1.close() \n",
    "        elif position==3: #print last attribute\n",
    "            with open(fname, mode=pmode, encoding='utf-8') as f1:\n",
    "                ttext = \"\\\"\" + str(tname) + \"\\\": \\\"\" +str(tvalue) + \"\\\"\"\n",
    "                print(ttext, file=f1) \n",
    "                f1.close()        \n",
    "        elif position==4: #end of point attributes\n",
    "            with open(fname, mode=pmode, encoding='utf-8') as f1:  \n",
    "                if endloop==0:\n",
    "                    print(\"}\\n},\", file=f1)\n",
    "                    f1.close()\n",
    "                else:  #end of geojson\n",
    "                    print(\"}\\n}\\n]\\n}\", file=f1)\n",
    "                    f1.close()  "
   ]
  },
  {
   "cell_type": "code",
   "execution_count": 26,
   "metadata": {},
   "outputs": [],
   "source": [
    "def trend(inputlist, nametrend, namediff, fname): \n",
    "    listlong = len(inputlist)\n",
    "    if listlong <= 1:\n",
    "        trendcoef = 0\n",
    "        timediff = 0\n",
    "        \n",
    "    else:\n",
    "        x = np.arange(0,len(inputlist))\n",
    "        y = inputlist\n",
    "        z = np.polyfit(x,y,1)\n",
    "        trendcoef=z[0]\n",
    "        timediff=int(trendcoef*(listlong-1))\n",
    "    print_geojson(nametrend, trendcoef, fname, 0, 0, 0, 2, 0)\n",
    "    print_geojson(namediff, timediff, fname, 0, 0, 0, 3, 0)\n",
    "    "
   ]
  },
  {
   "cell_type": "code",
   "execution_count": 27,
   "metadata": {},
   "outputs": [],
   "source": [
    "def trend2(inputlist, nametrend, namediff, endyear, startyear, fname):\n",
    "    listlong = endyear-startyear+1\n",
    "    numberweeks = len(inputlist[0])\n",
    "    for j in range(0, numberweeks,1):\n",
    "        tempweek = j +1\n",
    "        if listlong <= 1:\n",
    "            trendcoef = 0\n",
    "            timediff = 0\n",
    "            \n",
    "        else:\n",
    "            x = np.arange(0,listlong)\n",
    "            y = []\n",
    "            for i in range(0, listlong, 1): \n",
    "                y.append( inputlist[i][j])\n",
    "            z = np.polyfit(x,y,1)\n",
    "            trendcoef=z[0]\n",
    "            timediff=int(trendcoef*(listlong-1))\n",
    "        nametrend2 = nametrend + str(tempweek)\n",
    "        namediff2 = namediff + str(tempweek)\n",
    "        print_geojson(nametrend2, trendcoef, fname, 0, 0, 0, 2, 0)\n",
    "        if j == (numberweeks-1):\n",
    "             print_geojson(namediff2, timediff, fname, 0, 0, 0, 3, 0)\n",
    "        else:\n",
    "            print_geojson(namediff2, timediff, fname, 0, 0, 0, 2, 0)\n",
    "       \n",
    "    \n",
    "    "
   ]
  },
  {
   "cell_type": "code",
   "execution_count": 28,
   "metadata": {},
   "outputs": [],
   "source": [
    "def avg2Dlist(inputlist,startyear,endyear): #average for 2D list ->1D list # inputs: inputlist = 2D list, output: avglist = 1D list with avg values\n",
    "    numberyear = endyear-startyear+1\n",
    "    listlen = len(inputlist[0])\n",
    "    templist = []  \n",
    "    avglist = []  \n",
    "    for i in range(0, listlen,1):\n",
    "        for j in range(0, numberyear,1):\n",
    "            templist.append(inputlist[j][i])\n",
    "        tempvalue=sum(templist)/len(templist)\n",
    "        avglist.append(tempvalue) \n",
    "        templist = [] \n",
    "    return avglist\n",
    "            "
   ]
  },
  {
   "cell_type": "code",
   "execution_count": 29,
   "metadata": {},
   "outputs": [],
   "source": [
    "def acumulatelist(inputlist): #average for 2D list ->1D list # inputs: inputlist = 2D list, output: avglist = 1D list with avg values\n",
    "    listlen = len(inputlist)\n",
    "    for i in range (0,listlen-1,1):\n",
    "        inputlist[i+1] += inputlist[i]\n",
    "    return inputlist"
   ]
  },
  {
   "cell_type": "code",
   "execution_count": 30,
   "metadata": {},
   "outputs": [],
   "source": [
    "def printlistasweekgeojson(inputlist,name,fname,endtemp): # from list of week values print geojson\n",
    "    listlen = len(inputlist)\n",
    "    for i in range(0, listlen,1):\n",
    "        tempvalue=inputlist[i]\n",
    "        tvarname = name + str(i+1)\n",
    "        if endtemp==1 and i == (listlen-1):\n",
    "            print_geojson(tvarname, tempvalue, fname, 0, 0, 0, 3, 0)\n",
    "        else:\n",
    "            print_geojson(tvarname, tempvalue, fname, 0, 0, 0, 2, 0)\n",
    "        \n",
    "    "
   ]
  },
  {
   "cell_type": "markdown",
   "metadata": {},
   "source": [
    "###  GDU, HSU, LGP: function for one place"
   ]
  },
  {
   "cell_type": "code",
   "execution_count": 31,
   "metadata": {},
   "outputs": [],
   "source": [
    "from datetime import date, timedelta\n",
    "def finddu(latitude,longitude,year,endyear,im,enddate, startdate, fnameHSU,tparam, fnameoptLGP,allweekHSUlist,yearHSUlist,allweekGDUlist,yearGDUlist,allweekoptLGPlist,yearoptLGPlist,allweekabsLGPlist, yearabsLGPlist,fnameGDU, absgrowmax, absgrowmin, optgrowmax, optgrowmin,fnameabsLGP, fnameHSUaccu,fnameGDUaccu,fnameoptLGPaccu,fnameabsLGPaccu,fnameannualHSU,fnameannualGDU, fnameannualoptLGP,fnameannualabsLGP ):\n",
    "    \n",
    "    \n",
    "    sdate = startdate   # start date for searching last frost date\n",
    "    edate = enddate   # end date for searching last frost date\n",
    "    delta = edate - sdate       # as timedelta\n",
    "    sevendays=0 # for determination of new week (1-7)\n",
    "    currentweek=1 # for determination of weeks\n",
    "    weekHSU=0\n",
    "    weekHSUlist = []\n",
    "    weekGDU=0\n",
    "    weekGDUlist = []\n",
    "    weekabsLGP=0\n",
    "    weekabsLGPlist = []\n",
    "    weekoptLGP=0\n",
    "    weekoptLGPlist = []\n",
    "        \n",
    "    starthourday = 0\n",
    "    endhourday = 23\n",
    "    \n",
    "    yearHSUsum = 0\n",
    "    yearGDUsum = 0\n",
    "    yearabsLGPsum = 0\n",
    "    yearoptLGPsum = 0\n",
    "    \n",
    "    for i in range(delta.days+1):\n",
    "        daylong = sdate + timedelta(days=i)\n",
    "        sdaylong = str(daylong)\n",
    "        tday = int(sdaylong[8:10])\n",
    "        tmonth = int(sdaylong[5:7])\n",
    "        tyear = int(sdaylong[0:4])\n",
    "        daytempsum = 0 # start value\n",
    "        sevendays+=1\n",
    "        daymax = 0\n",
    "        dayavg = 0\n",
    "        dayHSU = 0\n",
    "        dayGDU = 0\n",
    "        dayabsLGP = 0\n",
    "        dayoptLGP = 0\n",
    "                \n",
    "        for hour in range(starthourday, endhourday+1, 1): # for specific hours (all day,only sunrise hours,..)\n",
    "            time=convert_time_reverse(datetime.datetime(tyear, tmonth, tday, hour, 0)) \n",
    "            slice_dictionary={'lon':[longitude,],'lat':[latitude],'time':[int(time)]}\n",
    "            currenttemp=int(kelvin_to_celsius_vector(im.slice(tparam,slice_dictionary)))\n",
    "            daytempsum += currenttemp\n",
    "            if currenttemp > daymax:\n",
    "                daymax = currenttemp\n",
    "                \n",
    "        dayavg = (daytempsum/24)\n",
    "        \n",
    "        #HSU\n",
    "        if daymax > optgrowmax:\n",
    "            dayHSU = (daymax-absgrowmax)\n",
    "            \n",
    "        #GDU + LGP growing\n",
    "        if dayavg < absgrowmax:\n",
    "            if dayavg > absgrowmin:\n",
    "                dayGDU = (dayavg-absgrowmin)\n",
    "                yearabsLGPsum +=1\n",
    "                dayabsLGP +=1\n",
    "        #LGP optimum growing\n",
    "        if dayavg < optgrowmax:\n",
    "            if dayavg > optgrowmin:\n",
    "                yearoptLGPsum += 1\n",
    "                dayoptLGP += 1\n",
    "            \n",
    "        yearHSUsum += dayHSU\n",
    "        yearGDUsum += dayGDU\n",
    "                    \n",
    "               \n",
    "                \n",
    "        if daylong == edate: # save week date for last date in season\n",
    "            weekHSU+=dayHSU\n",
    "            weekHSUlist.append(weekHSU)\n",
    "            weekGDU+=dayGDU\n",
    "            weekGDUlist.append(weekGDU)\n",
    "            weekoptLGP+=dayoptLGP\n",
    "            weekoptLGPlist.append(weekoptLGP)\n",
    "            weekabsLGP+=dayabsLGP\n",
    "            weekabsLGPlist.append(weekabsLGP)\n",
    "            \n",
    "            tvarname = \"W\" + str(year) + \"_\" + str(currentweek)\n",
    "            print_geojson(tvarname, weekHSU, fnameHSU, 0, 0, 0, 2, 0)\n",
    "            tvarname = \"W\" + str(year) + \"_\" + str(currentweek)\n",
    "            print_geojson(tvarname, weekGDU, fnameGDU, 0, 0, 0, 2, 0)\n",
    "            tvarname = \"W\" + str(year) + \"_\" + str(currentweek)\n",
    "            print_geojson(tvarname, yearHSUsum, fnameHSUaccu, 0, 0, 0, 2, 0)\n",
    "            tvarname = \"W\" + str(year) + \"_\" + str(currentweek)\n",
    "            print_geojson(tvarname, yearGDUsum, fnameGDUaccu, 0, 0, 0, 2, 0)\n",
    "                        \n",
    "            tvarname = \"W\" + str(year) + \"_\" + str(currentweek)\n",
    "            print_geojson(tvarname, weekoptLGP, fnameoptLGP, 0, 0, 0, 2, 0)\n",
    "            tvarname = \"W\" + str(year) + \"_\" + str(currentweek)\n",
    "            print_geojson(tvarname, weekabsLGP, fnameabsLGP, 0, 0, 0, 2, 0)\n",
    "            tvarname = \"W\" + str(year) + \"_\" + str(currentweek)\n",
    "            print_geojson(tvarname, yearoptLGPsum, fnameoptLGPaccu, 0, 0, 0, 2, 0)\n",
    "            tvarname = \"W\" + str(year) + \"_\" + str(currentweek)\n",
    "            print_geojson(tvarname, yearabsLGPsum, fnameabsLGPaccu, 0, 0, 0, 2, 0)\n",
    "            \n",
    "            \n",
    "        elif sevendays<=7:  # new week?   \n",
    "            weekHSU+=dayHSU\n",
    "            weekGDU+=dayGDU\n",
    "            weekoptLGP+=dayoptLGP\n",
    "            weekabsLGP+=dayabsLGP\n",
    "            \n",
    "        else:\n",
    "            weekHSUlist.append(weekHSU)\n",
    "            weekGDUlist.append(weekGDU)\n",
    "            weekoptLGPlist.append(weekoptLGP)\n",
    "            weekabsLGPlist.append(weekabsLGP)\n",
    "            \n",
    "            tvarname = \"W\" + str(year) + \"_\" + str(currentweek)\n",
    "            print_geojson(tvarname, weekHSU, fnameHSU, 0, 0, 0, 2, 0)\n",
    "            tvarname = \"W\" + str(year) + \"_\" + str(currentweek)\n",
    "            print_geojson(tvarname, weekGDU, fnameGDU, 0, 0, 0, 2, 0)\n",
    "            tvarname = \"W\" + str(year) + \"_\" + str(currentweek)\n",
    "            print_geojson(tvarname, yearHSUsum, fnameHSUaccu, 0, 0, 0, 2, 0)\n",
    "            tvarname = \"W\" + str(year) + \"_\" + str(currentweek)\n",
    "            print_geojson(tvarname, yearGDUsum, fnameGDUaccu, 0, 0, 0, 2, 0)\n",
    "                        \n",
    "            tvarname = \"W\" + str(year) + \"_\" + str(currentweek)\n",
    "            print_geojson(tvarname, weekoptLGP, fnameoptLGP, 0, 0, 0, 2, 0)\n",
    "            tvarname = \"W\" + str(year) + \"_\" + str(currentweek)\n",
    "            print_geojson(tvarname, weekabsLGP, fnameabsLGP, 0, 0, 0, 2, 0)\n",
    "            tvarname = \"W\" + str(year) + \"_\" + str(currentweek)\n",
    "            print_geojson(tvarname, yearoptLGPsum, fnameoptLGPaccu, 0, 0, 0, 2, 0)\n",
    "            tvarname = \"W\" + str(year) + \"_\" + str(currentweek)\n",
    "            print_geojson(tvarname, yearabsLGPsum, fnameabsLGPaccu, 0, 0, 0, 2, 0)\n",
    "            \n",
    "            weekHSU=dayHSU\n",
    "            weekGDU=dayGDU\n",
    "            weekoptLGP=dayoptLGP\n",
    "            weekabsLGP=dayabsLGP\n",
    "                \n",
    "            sevendays=0\n",
    "            currentweek+=1\n",
    "        \n",
    "                    \n",
    "          \n",
    "    allweekHSUlist.append(weekHSUlist)\n",
    "    yearHSUlist.append(yearHSUsum)\n",
    "    allweekGDUlist.append(weekGDUlist)\n",
    "    yearGDUlist.append(yearGDUsum)\n",
    "    allweekoptLGPlist.append(weekoptLGPlist)\n",
    "    yearoptLGPlist.append(yearoptLGPsum)\n",
    "    allweekabsLGPlist.append(weekabsLGPlist)\n",
    "    yearabsLGPlist.append(yearabsLGPsum)\n",
    "    \n",
    "    tvarname = \"HSU\" + str(year) \n",
    "    print_geojson(tvarname, yearHSUsum, fnameannualHSU, 0, 0, 0, 2, 0)\n",
    "    tvarname = \"GDU\" + str(year) \n",
    "    print_geojson(tvarname, yearGDUsum, fnameannualGDU, 0, 0, 0, 2, 0)\n",
    "    tvarname = \"LGP\" + str(year) \n",
    "    print_geojson(tvarname, yearoptLGPsum, fnameannualoptLGP, 0, 0, 0, 2, 0)\n",
    "    tvarname = \"LGP\" + str(year) \n",
    "    print_geojson(tvarname, yearabsLGPsum, fnameannualabsLGP, 0, 0, 0, 2, 0)\n",
    "    \n",
    "   \n",
    "       \n",
    "    \n",
    "    \n",
    "    \n",
    "    \n",
    "                  "
   ]
  },
  {
   "cell_type": "markdown",
   "metadata": {},
   "source": [
    "### Find GDU, HSU, LGP: function for selected years"
   ]
  },
  {
   "cell_type": "code",
   "execution_count": 32,
   "metadata": {},
   "outputs": [],
   "source": [
    "def duyearly(latorder,lonorder,startyear,endyear,endloop,datafolder,fnameHSU,enddatem, startdatem,enddated, startdated,tparam, fnameoptLGP,fnameGDU, absgrowmax, absgrowmin, optgrowmax, optgrowmin,fnameabsLGP, fnameHSUaccu,fnameGDUaccu,fnameoptLGPaccu,fnameabsLGPaccu,fnameannualHSU,fnameannualGDU, fnameannualoptLGP,fnameannualabsLGP ):\n",
    "    print_geojson(\"\", \"\", fnameHSU, 0, 0, 0, 1,0)\n",
    "    print_geojson(\"\", \"\", fnameGDU, 0, 0, 0, 1,0)\n",
    "    print_geojson(\"\", \"\", fnameHSUaccu, 0, 0, 0, 1,0)\n",
    "    print_geojson(\"\", \"\", fnameGDUaccu, 0, 0, 0, 1,0)\n",
    "    print_geojson(\"\", \"\", fnameannualHSU, 0, 0, 0, 1,0)\n",
    "    print_geojson(\"\", \"\", fnameannualGDU, 0, 0, 0, 1,0)\n",
    "    print_geojson(\"\", \"\", fnameoptLGP, 0, 0, 0, 1,0)\n",
    "    print_geojson(\"\", \"\", fnameabsLGP, 0, 0, 0, 1,0)\n",
    "    print_geojson(\"\", \"\", fnameoptLGPaccu, 0, 0, 0, 1,0)\n",
    "    print_geojson(\"\", \"\", fnameabsLGPaccu, 0, 0, 0, 1,0)\n",
    "    print_geojson(\"\", \"\", fnameannualoptLGP, 0, 0, 0, 1,0)\n",
    "    print_geojson(\"\", \"\", fnameannualabsLGP, 0, 0, 0, 1,0)\n",
    "    \n",
    "   \n",
    "    \n",
    "    \n",
    "    \n",
    "    allweekHSUlist=[] # 2D list for all weeks many years\n",
    "    yearHSUlist=[] # 2D list for all weeks many years\n",
    "    allweekGDUlist=[] # 2D list for all weeks many years\n",
    "    yearGDUlist=[] # 2D list for all weeks many years\n",
    "    allweekoptLGPlist=[] # 2D list for all weeks many years\n",
    "    yearoptLGPlist=[] # 2D list for all weeks many years\n",
    "    allweekabsLGPlist=[] # 2D list for all weeks many years\n",
    "    yearabsLGPlist=[] # 2D list for all weeks many years\n",
    "     \n",
    "       \n",
    "    \n",
    "    for year in range(startyear, endyear+1, 1):\n",
    "        source = datafolder + '/' + str(year) + '.nc' \n",
    "        im=Image(netCDF4.Dataset(source,'r'))   \n",
    "        longlist = im.get_data().variables['lon'][:]\n",
    "        latlist= im.get_data().variables['lat'][:]\n",
    "        longitude = longlist [lonorder]   \n",
    "        latitude = latlist[latorder]\n",
    "        if year == startyear:\n",
    "            print_geojson(\"\", \"\", fnameHSU, longitude, latitude, 0, 0,0)\n",
    "            print_geojson(\"\", \"\", fnameHSUaccu, longitude, latitude, 0, 0,0)\n",
    "            print_geojson(\"\", \"\", fnameannualHSU, longitude, latitude, 0, 0,0)\n",
    "            print_geojson(\"\", \"\", fnameGDU, longitude, latitude, 0, 0,0)\n",
    "            print_geojson(\"\", \"\", fnameGDUaccu, longitude, latitude, 0, 0,0)\n",
    "            print_geojson(\"\", \"\", fnameannualGDU, longitude, latitude, 0, 0,0)\n",
    "            print_geojson(\"\", \"\", fnameoptLGP, longitude, latitude, 0, 0,0)\n",
    "            print_geojson(\"\", \"\", fnameoptLGPaccu, longitude, latitude, 0, 0,0)\n",
    "            print_geojson(\"\", \"\", fnameannualoptLGP, longitude, latitude, 0, 0,0)\n",
    "            print_geojson(\"\", \"\", fnameabsLGP, longitude, latitude, 0, 0,0)\n",
    "            print_geojson(\"\", \"\", fnameabsLGPaccu, longitude, latitude, 0, 0,0)\n",
    "            print_geojson(\"\", \"\", fnameannualabsLGP, longitude, latitude, 0, 0,0)\n",
    "            \n",
    "            \n",
    "            \n",
    "        \n",
    "        enddate=date(year, enddatem, enddated) \n",
    "        startdate=date(year, startdatem, startdated) \n",
    "                  \n",
    "        \n",
    "        \n",
    "        \n",
    "                 \n",
    "            \n",
    "        finddu(latitude,longitude,year,endyear,im,enddate, startdate, fnameHSU,tparam, fnameoptLGP,allweekHSUlist,yearHSUlist,allweekGDUlist,yearGDUlist,allweekoptLGPlist,yearoptLGPlist,allweekabsLGPlist, yearabsLGPlist,fnameGDU, absgrowmax, absgrowmin, optgrowmax, optgrowmin,fnameabsLGP, fnameHSUaccu,fnameGDUaccu,fnameoptLGPaccu,fnameabsLGPaccu,fnameannualHSU,fnameannualGDU, fnameannualoptLGP,fnameannualabsLGP )\n",
    "    \n",
    "    \n",
    "     \n",
    "    \n",
    "    \n",
    "    avgweekHSUlist = avg2Dlist(allweekHSUlist,startyear,endyear)\n",
    "    printlistasweekgeojson(avgweekHSUlist,\"HSUW\",fnameHSU,0)\n",
    "    avgweekacuHSUlist = acumulatelist(avgweekHSUlist)\n",
    "    printlistasweekgeojson(avgweekacuHSUlist,\"HSUW\",fnameHSUaccu,1)\n",
    "    avgHSUyear=sum(yearHSUlist)/len(yearHSUlist)\n",
    "    print_geojson(\"AvgHSU\", avgHSUyear, fnameannualHSU, 0, 0, 0, 2, 0)\n",
    "    nametrend = \"AnTrCo\"\n",
    "    namediff = \"Andiff\"\n",
    "    trend(yearHSUlist, nametrend, namediff,fnameannualHSU)\n",
    "    nametrend = \"TrCo\"\n",
    "    namediff = \"Diff\"\n",
    "    trend2(allweekHSUlist, nametrend, namediff, endyear, startyear, fnameHSU)\n",
    "    \n",
    "    avgweekGDUlist = avg2Dlist(allweekGDUlist,startyear,endyear)\n",
    "    printlistasweekgeojson(avgweekGDUlist,\"GDUW\",fnameGDU,0)\n",
    "    avgweekacuGDUlist = acumulatelist(avgweekGDUlist)\n",
    "    printlistasweekgeojson(avgweekacuGDUlist,\"GDUW\",fnameGDUaccu,1)\n",
    "    avgGDUyear=sum(yearGDUlist)/len(yearGDUlist)\n",
    "    print_geojson(\"AvgGDU\", avgGDUyear, fnameannualGDU, 0, 0, 0, 2, 0)\n",
    "    nametrend = \"AnTrCo\"\n",
    "    namediff = \"Andiff\"\n",
    "    trend(yearGDUlist, nametrend, namediff,fnameannualGDU)\n",
    "    nametrend = \"TrCo\"\n",
    "    namediff = \"Diff\"\n",
    "    trend2(allweekGDUlist, nametrend, namediff, endyear, startyear, fnameGDU)\n",
    "    \n",
    "    avgweekoptLGPlist = avg2Dlist(allweekoptLGPlist,startyear,endyear)\n",
    "    printlistasweekgeojson(avgweekoptLGPlist,\"LOGPW\",fnameoptLGP,0)\n",
    "    avgweekacuoptLGPlist = acumulatelist(avgweekoptLGPlist)\n",
    "    printlistasweekgeojson(avgweekacuoptLGPlist,\"LOGPW\",fnameoptLGPaccu,1)\n",
    "    avgoptLGPyear=sum(yearoptLGPlist)/len(yearoptLGPlist)\n",
    "    print_geojson(\"AvgOLGP\", avgoptLGPyear, fnameannualoptLGP, 0, 0, 0, 2, 0)\n",
    "    nametrend = \"AnTrCo\"\n",
    "    namediff = \"Andiff\"\n",
    "    trend(yearoptLGPlist, nametrend, namediff,fnameannualoptLGP)\n",
    "    nametrend = \"TrCo\"\n",
    "    namediff = \"Diff\"\n",
    "    trend2(allweekoptLGPlist, nametrend, namediff, endyear, startyear, fnameoptLGP)\n",
    "    \n",
    "    avgweekabsLGPlist = avg2Dlist(allweekabsLGPlist,startyear,endyear)\n",
    "    printlistasweekgeojson(avgweekabsLGPlist,\"LGPW\",fnameabsLGP,0)\n",
    "    avgweekacuabsLGPlist = acumulatelist(avgweekabsLGPlist)\n",
    "    printlistasweekgeojson(avgweekacuabsLGPlist,\"LGPW\",fnameabsLGPaccu,1)\n",
    "    avgabsLGPyear=sum(yearabsLGPlist)/len(yearabsLGPlist)\n",
    "    print_geojson(\"AvgLGP\", avgabsLGPyear, fnameannualabsLGP, 0, 0, 0, 2, 0)\n",
    "    nametrend = \"AnTrCo\"\n",
    "    namediff = \"Andiff\"\n",
    "    trend(yearabsLGPlist, nametrend, namediff,fnameannualabsLGP)\n",
    "    nametrend = \"TrCo\"\n",
    "    namediff = \"Diff\"\n",
    "    trend2(allweekabsLGPlist, nametrend, namediff, endyear, startyear, fnameabsLGP)\n",
    "    \n",
    "    \n",
    "   \n",
    "    print_geojson(\"\", \"\", fnameHSU, 0, 0, 0, 4,endloop)\n",
    "    print_geojson(\"\", \"\", fnameGDU, 0, 0, 0, 4,endloop)\n",
    "    print_geojson(\"\", \"\", fnameHSUaccu, 0, 0, 0, 4,endloop)\n",
    "    print_geojson(\"\", \"\", fnameGDUaccu, 0, 0, 0, 4,endloop)\n",
    "    print_geojson(\"\", \"\", fnameannualHSU, 0, 0, 0, 4,endloop)\n",
    "    print_geojson(\"\", \"\", fnameannualGDU, 0, 0, 0, 4,endloop)\n",
    "    print_geojson(\"\", \"\", fnameoptLGP, 0, 0, 0, 4,endloop)\n",
    "    print_geojson(\"\", \"\", fnameabsLGP, 0, 0, 0, 4,endloop)\n",
    "    print_geojson(\"\", \"\", fnameoptLGPaccu, 0, 0, 0, 4,endloop)\n",
    "    print_geojson(\"\", \"\", fnameabsLGPaccu, 0, 0, 0, 4,endloop)\n",
    "    print_geojson(\"\", \"\", fnameannualoptLGP, 0, 0, 0, 4,endloop)\n",
    "    print_geojson(\"\", \"\", fnameannualabsLGP, 0, 0, 0, 4,endloop)\n",
    "          "
   ]
  },
  {
   "cell_type": "markdown",
   "metadata": {},
   "source": [
    "### Find GDU, HSU, LGP: function for selected latitudes, longitudes"
   ]
  },
  {
   "cell_type": "code",
   "execution_count": 33,
   "metadata": {},
   "outputs": [],
   "source": [
    "def duplaces(startlat, startlon, endlat, endlon, startyear,endyear,exportfolder,datafolder,fnameHSU1,enddatem, startdatem,enddated, startdated, alllatlonfile, tparam, fnameoptLGP1,fnameGDU1,absgrowmax, absgrowmin, optgrowmax, optgrowmin,fnameabsLGP1, fnameHSUaccu1,fnameGDUaccu1,fnameoptLGPaccu1,fnameabsLGPaccu1,fnameannualHSU1,fnameannualGDU1, fnameannualoptLGP1,fnameannualabsLGP1):\n",
    "        fnameHSU= exportfolder + \"/\" +fnameHSU1\n",
    "        fnameHSUaccu= exportfolder + \"/\" +fnameHSUaccu1\n",
    "        fnameannualHSU= exportfolder + \"/\" +fnameannualHSU1\n",
    "        fnameGDU= exportfolder + \"/\" +fnameGDU1\n",
    "        fnameGDUaccu= exportfolder + \"/\" +fnameGDUaccu1\n",
    "        fnameannualGDU= exportfolder + \"/\" +fnameannualGDU1\n",
    "        fnameabsLGP= exportfolder + \"/\" +fnameabsLGP1\n",
    "        fnameabsLGPaccu= exportfolder + \"/\" +fnameabsLGPaccu1\n",
    "        fnameannualabsLGP= exportfolder + \"/\" +fnameannualabsLGP1\n",
    "        fnameoptLGP= exportfolder + \"/\" +fnameoptLGP1\n",
    "        fnameoptLGPaccu= exportfolder + \"/\" +fnameoptLGPaccu1\n",
    "        fnameannualoptLGP= exportfolder + \"/\" +fnameannualoptLGP1\n",
    "        \n",
    "       \n",
    "        \n",
    "         #start in geojson files:\n",
    "        print_geojson(\"\", \"\", fnameHSU, 0, 0, 1, 0,0)\n",
    "        print_geojson(\"\", \"\", fnameGDU, 0, 0, 1, 0,0)\n",
    "        print_geojson(\"\", \"\", fnameHSUaccu, 0, 0, 1, 0,0)\n",
    "        print_geojson(\"\", \"\", fnameGDUaccu, 0, 0, 1, 0,0)\n",
    "        print_geojson(\"\", \"\", fnameannualHSU, 0, 0, 1, 0,0)\n",
    "        print_geojson(\"\", \"\", fnameannualGDU, 0, 0, 1, 0,0)\n",
    "        print_geojson(\"\", \"\", fnameoptLGP, 0, 0, 1, 0,0)\n",
    "        print_geojson(\"\", \"\", fnameabsLGP, 0, 0, 1, 0,0)\n",
    "        print_geojson(\"\", \"\", fnameoptLGPaccu, 0, 0, 1, 0,0)\n",
    "        print_geojson(\"\", \"\", fnameabsLGPaccu, 0, 0, 1, 0,0)\n",
    "        print_geojson(\"\", \"\", fnameannualoptLGP, 0, 0, 1, 0,0)\n",
    "        print_geojson(\"\", \"\", fnameannualabsLGP, 0, 0, 1, 0,0)\n",
    "                \n",
    "        endloop=0\n",
    "        \n",
    "        if alllatlonfile==1:  # if it is calculated for all latitudes and longitudes in input file\n",
    "            source = datafolder + '/' + str(startyear) + '.nc' \n",
    "            im=Image(netCDF4.Dataset(source,'r')) \n",
    "            arraylon = im.get_data().variables['lon'][0::]\n",
    "            arraylat = im.get_data().variables['lat'][0::]\n",
    "            startlat=0\n",
    "            startlon=0\n",
    "            endlon= len(arraylon)-1\n",
    "            endlat= len(arraylat)-1\n",
    "        \n",
    "        for latorder in range(startlat, endlat+1, 1):\n",
    "            for lonorder in range(startlon, endlon+1, 1):\n",
    "                if latorder==endlat and lonorder==endlon:\n",
    "                    endloop=1\n",
    "                duyearly(latorder,lonorder,startyear,endyear,endloop,datafolder,fnameHSU,enddatem, startdatem,enddated, startdated,tparam, fnameoptLGP,fnameGDU,absgrowmax, absgrowmin, optgrowmax, optgrowmin,fnameabsLGP, fnameHSUaccu,fnameGDUaccu,fnameoptLGPaccu,fnameabsLGPaccu,fnameannualHSU,fnameannualGDU, fnameannualoptLGP,fnameannualabsLGP )\n",
    "       \n",
    "       \n",
    "        "
   ]
  },
  {
   "cell_type": "markdown",
   "metadata": {},
   "source": [
    "## <font color=red>Find GDU, HSU, LGP: input parameters and launch</font> "
   ]
  },
  {
   "cell_type": "code",
   "execution_count": 34,
   "metadata": {},
   "outputs": [],
   "source": [
    "#Time definition:\n",
    "startyear=2017 #start year (integer) \n",
    "endyear=2018 #end year (integer)  \n",
    "enddatem = 12 # start date (month) each year\n",
    "enddated = 31  # start date (day) each year\n",
    "startdatem = 1 # end date (month) each year\n",
    "startdated = 1 # end date (day) each year\n",
    "\n",
    "\n",
    "#Temperatures of growing (degrees of Celsia):\n",
    "absgrowmax = 30\n",
    "absgrowmin = 10\n",
    "optgrowmax = 33\n",
    "optgrowmin = 18\n",
    "\n",
    "#Files/Folders name:\n",
    "datafolder = \"data\" #folder with data files (named by year) for each year #string\n",
    "fnameHSU =\"HSU\" #name of created files with HSU\n",
    "fnameGDU =\"GDU\" #name of created files with GDU\n",
    "fnameoptLGP =\"LOGP\" #name of created files with number of optimal growing days\n",
    "fnameabsLGP =\"LGP\" #name of created files with number of growing days\n",
    "fnameHSUaccu =\"HSU_accumulated\" #name of created files with HSU\n",
    "fnameGDUaccu =\"GDU_accumulated\" #name of created files with GDU\n",
    "fnameoptLGPaccu =\"LOGP_accumulated\" #name of created files with number of optimal growing days\n",
    "fnameabsLGPaccu =\"LGP_accumulated\" #name of created files with number of growing days\n",
    "fnameannualHSU =\"annual_HSU\" #name of created files with HSU\n",
    "fnameannualGDU =\"annual_GDU\" #name of created files with GDU\n",
    "fnameannualoptLGP =\"annual_LOGP\" #name of created files with number of optimal growing days\n",
    "fnameannualabsLGP =\"annual_LGP\" #name of created files with number of growing dayss\n",
    "\n",
    "exportfolder = \"export\" #for all files (if each file its folder -> insert name of folder to name of file) #export folder must be created #string\n",
    "\n",
    "#Area definition:\n",
    "alllatlonfile=0 #calculate all latitudes and longitudes in input file (1=yes, 0=no)\n",
    "# if alllatlonfile!=0 then:\n",
    "startlat=0 # start number of list of latitudes from used netCDF4 file \n",
    "startlon=0 # start number of list of longitudes from used netCDF4 file \n",
    "endlat=1 # end number of list of latitudes from used netCDF4 file \n",
    "endlon=1 # end number of list of longitudes from used netCDF4 file \n",
    "\n",
    "#Temperature data parameter:\n",
    "tparam = 'tas'\n",
    "\n",
    "\n",
    "duplaces(startlat, startlon, endlat, endlon, startyear,endyear,exportfolder,datafolder,fnameHSU,enddatem, startdatem,enddated, startdated,alllatlonfile,tparam, fnameoptLGP, fnameGDU, absgrowmax, absgrowmin, optgrowmax, optgrowmin,fnameabsLGP, fnameHSUaccu,fnameGDUaccu,fnameoptLGPaccu,fnameabsLGPaccu,fnameannualHSU,fnameannualGDU, fnameannualoptLGP,fnameannualabsLGP)\n",
    "\n",
    "\n",
    "\n",
    "\n"
   ]
  },
  {
   "cell_type": "markdown",
   "metadata": {},
   "source": [
    "## From geojson to shp"
   ]
  },
  {
   "cell_type": "code",
   "execution_count": 35,
   "metadata": {},
   "outputs": [
    {
     "data": {
      "text/plain": [
       "<subprocess.Popen at 0x7f09fa4ae5c0>"
      ]
     },
     "execution_count": 35,
     "metadata": {},
     "output_type": "execute_result"
    }
   ],
   "source": [
    "args = ['ogr2ogr', '-f', 'ESRI Shapefile', 'export/shp/HSU.shp', 'export/HSU.geojson']\n",
    "subprocess.Popen(args)"
   ]
  },
  {
   "cell_type": "code",
   "execution_count": 36,
   "metadata": {},
   "outputs": [
    {
     "data": {
      "text/plain": [
       "<subprocess.Popen at 0x7f09fa4aee80>"
      ]
     },
     "execution_count": 36,
     "metadata": {},
     "output_type": "execute_result"
    }
   ],
   "source": [
    "args = ['ogr2ogr', '-f', 'ESRI Shapefile', 'export/shp/GDU.shp', 'export/GDU.geojson']\n",
    "subprocess.Popen(args)"
   ]
  },
  {
   "cell_type": "code",
   "execution_count": 37,
   "metadata": {},
   "outputs": [
    {
     "data": {
      "text/plain": [
       "<subprocess.Popen at 0x7f09fa4fb7b8>"
      ]
     },
     "execution_count": 37,
     "metadata": {},
     "output_type": "execute_result"
    }
   ],
   "source": [
    "args = ['ogr2ogr', '-f', 'ESRI Shapefile', 'export/shp/LOGP.shp', 'export/LOGP.geojson']\n",
    "subprocess.Popen(args)"
   ]
  },
  {
   "cell_type": "code",
   "execution_count": 38,
   "metadata": {},
   "outputs": [
    {
     "data": {
      "text/plain": [
       "<subprocess.Popen at 0x7f09fa4affd0>"
      ]
     },
     "execution_count": 38,
     "metadata": {},
     "output_type": "execute_result"
    }
   ],
   "source": [
    "args = ['ogr2ogr', '-f', 'ESRI Shapefile', 'export/shp/LGP.shp', 'export/LGP.geojson']\n",
    "subprocess.Popen(args)"
   ]
  },
  {
   "cell_type": "code",
   "execution_count": 39,
   "metadata": {},
   "outputs": [
    {
     "data": {
      "text/plain": [
       "<subprocess.Popen at 0x7f09fa4afd30>"
      ]
     },
     "execution_count": 39,
     "metadata": {},
     "output_type": "execute_result"
    }
   ],
   "source": [
    "args = ['ogr2ogr', '-f', 'ESRI Shapefile', 'export/shp/HSU_accumulated.shp', 'export/HSU_accumulated.geojson']\n",
    "subprocess.Popen(args)"
   ]
  },
  {
   "cell_type": "code",
   "execution_count": 40,
   "metadata": {},
   "outputs": [
    {
     "data": {
      "text/plain": [
       "<subprocess.Popen at 0x7f09fa4afd68>"
      ]
     },
     "execution_count": 40,
     "metadata": {},
     "output_type": "execute_result"
    }
   ],
   "source": [
    "args = ['ogr2ogr', '-f', 'ESRI Shapefile', 'export/shp/GDU_accumulated.shp', 'export/GDU_accumulated.geojson']\n",
    "subprocess.Popen(args)"
   ]
  },
  {
   "cell_type": "code",
   "execution_count": 41,
   "metadata": {},
   "outputs": [
    {
     "data": {
      "text/plain": [
       "<subprocess.Popen at 0x7f09fa4af048>"
      ]
     },
     "execution_count": 41,
     "metadata": {},
     "output_type": "execute_result"
    }
   ],
   "source": [
    "args = ['ogr2ogr', '-f', 'ESRI Shapefile', 'export/shp/LOGP_accumulated.shp', 'export/LOGP_accumulated.geojson']\n",
    "subprocess.Popen(args)"
   ]
  },
  {
   "cell_type": "code",
   "execution_count": 3,
   "metadata": {},
   "outputs": [
    {
     "data": {
      "text/plain": [
       "<subprocess.Popen at 0x7fb765116cc0>"
      ]
     },
     "execution_count": 3,
     "metadata": {},
     "output_type": "execute_result"
    }
   ],
   "source": [
    "args = ['ogr2ogr', '-f', 'ESRI Shapefile', 'export/shp/vyberC3opt.shp', 'export/vyberC3opt.geojson']\n",
    "subprocess.Popen(args)"
   ]
  },
  {
   "cell_type": "code",
   "execution_count": 43,
   "metadata": {},
   "outputs": [
    {
     "data": {
      "text/plain": [
       "<subprocess.Popen at 0x7f09fa4e4be0>"
      ]
     },
     "execution_count": 43,
     "metadata": {},
     "output_type": "execute_result"
    }
   ],
   "source": [
    "args = ['ogr2ogr', '-f', 'ESRI Shapefile', 'export/shp/annual_HSU.shp', 'export/annual_HSU.geojson']\n",
    "subprocess.Popen(args)"
   ]
  },
  {
   "cell_type": "code",
   "execution_count": 44,
   "metadata": {},
   "outputs": [
    {
     "data": {
      "text/plain": [
       "<subprocess.Popen at 0x7f09fa479518>"
      ]
     },
     "execution_count": 44,
     "metadata": {},
     "output_type": "execute_result"
    }
   ],
   "source": [
    "args = ['ogr2ogr', '-f', 'ESRI Shapefile', 'export/shp/annual_GDU.shp', 'export/annual_GDU.geojson']\n",
    "subprocess.Popen(args)"
   ]
  },
  {
   "cell_type": "code",
   "execution_count": 45,
   "metadata": {},
   "outputs": [
    {
     "data": {
      "text/plain": [
       "<subprocess.Popen at 0x7f09fa479ac8>"
      ]
     },
     "execution_count": 45,
     "metadata": {},
     "output_type": "execute_result"
    }
   ],
   "source": [
    "args = ['ogr2ogr', '-f', 'ESRI Shapefile', 'export/shp/annual_LOGP.shp', 'export/annual_LOGP.geojson']\n",
    "subprocess.Popen(args)"
   ]
  },
  {
   "cell_type": "code",
   "execution_count": 46,
   "metadata": {},
   "outputs": [
    {
     "data": {
      "text/plain": [
       "<subprocess.Popen at 0x7f09fa47f048>"
      ]
     },
     "execution_count": 46,
     "metadata": {},
     "output_type": "execute_result"
    }
   ],
   "source": [
    "args = ['ogr2ogr', '-f', 'ESRI Shapefile', 'export/shp/annual_LGP.shp', 'export/annual_LGP.geojson']\n",
    "subprocess.Popen(args)"
   ]
  }
 ],
 "metadata": {
  "kernelspec": {
   "display_name": "Python 3",
   "language": "python",
   "name": "python3"
  },
  "language_info": {
   "codemirror_mode": {
    "name": "ipython",
    "version": 3
   },
   "file_extension": ".py",
   "mimetype": "text/x-python",
   "name": "python",
   "nbconvert_exporter": "python",
   "pygments_lexer": "ipython3",
   "version": "3.7.3"
  }
 },
 "nbformat": 4,
 "nbformat_minor": 4
}
