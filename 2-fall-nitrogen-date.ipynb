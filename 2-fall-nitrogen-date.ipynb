{
 "cells": [
  {
   "cell_type": "markdown",
   "metadata": {},
   "source": [
    "### import libraries"
   ]
  },
  {
   "cell_type": "code",
   "execution_count": 2,
   "metadata": {},
   "outputs": [
    {
     "name": "stdout",
     "output_type": "stream",
     "text": [
      "Collecting netCDF4\n",
      "\u001b[?25l  Downloading https://files.pythonhosted.org/packages/bf/da/79d6762e0ef66f913249684122d567bddfada6b83cdf9e96c82550fd2d14/netCDF4-1.5.3-cp37-cp37m-manylinux1_x86_64.whl (4.1MB)\n",
      "\u001b[K     |████████████████████████████████| 4.1MB 4.2MB/s eta 0:00:01            | 1.3MB 4.2MB/s eta 0:00:01\n",
      "\u001b[?25hCollecting cftime\n",
      "\u001b[?25l  Downloading https://files.pythonhosted.org/packages/b8/4c/e1cb3968c0d3bcac3444c9f271e8f39c916142b359878d5b49282ffa40ec/cftime-1.1.2-cp37-cp37m-manylinux1_x86_64.whl (319kB)\n",
      "\u001b[K     |████████████████████████████████| 327kB 48.8MB/s eta 0:00:01\n",
      "\u001b[?25hRequirement already satisfied: numpy>=1.7 in /opt/conda/lib/python3.7/site-packages (from netCDF4) (1.17.3)\n",
      "Installing collected packages: cftime, netCDF4\n",
      "Successfully installed cftime-1.1.2 netCDF4-1.5.3\n"
     ]
    }
   ],
   "source": [
    "! pip install netCDF4"
   ]
  },
  {
   "cell_type": "code",
   "execution_count": 1,
   "metadata": {},
   "outputs": [],
   "source": [
    "import netCDF4 # python API to work with netcdf (.nc) files\n",
    "import os\n",
    "import datetime\n",
    "from osgeo import gdal, ogr, osr\n",
    "import numpy as np # library to work with matrixes and computations in general\n",
    "import matplotlib.pyplot as plt # plotting library\n",
    "from auxiliary_classes import convert_time,convert_time_reverse,kelvin_to_celsius,kelvin_to_celsius_vector,Grid,Image,subImage\n",
    "import json\n",
    "import geojson, gdal, subprocess"
   ]
  },
  {
   "cell_type": "markdown",
   "metadata": {},
   "source": [
    "### auxiliary functions"
   ]
  },
  {
   "cell_type": "code",
   "execution_count": 2,
   "metadata": {},
   "outputs": [],
   "source": [
    "def print_geojson(tname, tvalue, fname, longitude, latitude, startdoc, position,endloop): #for printing to geojson - start,end,attributes\n",
    "    fname = fname +\".geojson\"\n",
    "    pmode=\"a\"\n",
    "    if startdoc==1:\n",
    "        with open(fname, mode=\"w\", encoding='utf-8') as f1: #start of geojson\n",
    "            tstring = \"{\\n\\\"type\\\": \\\"FeatureCollection\\\",\\n\\\"features\\\": [\"\n",
    "            print(tstring, file=f1)\n",
    "            f1.close()\n",
    "    else:\n",
    "        if position==0: #for printing to geojson - geometry, longitude, latitude\n",
    "            tstring = \"\\\"type\\\": \\\"Feature\\\",\\n\\\"geometry\\\": {\\n\\\"type\\\": \\\"Point\\\",\\n\\\"coordinates\\\": [\" + str(longitude) + \",\"+ str(latitude) + \"]\\n},\\n\\\"properties\\\": {\"\n",
    "            fname = fname \n",
    "            with open(fname, mode=pmode, encoding='utf-8') as f1:\n",
    "                print(tstring, file=f1)\n",
    "                f1.close()\n",
    "        elif position==1:  #start of point attributes\n",
    "            with open(fname, mode=pmode, encoding='utf-8') as f1:\n",
    "                print(\"{\", file=f1)\n",
    "                f1.close()  \n",
    "        elif position==2: #print attribute (not last)\n",
    "             with open(fname, mode=pmode, encoding='utf-8') as f1:\n",
    "                ttext = \"\\\"\" + str(tname) + \"\\\": \\\"\" +str(tvalue) + \"\\\",\"\n",
    "                print(ttext, file=f1) \n",
    "                f1.close() \n",
    "        elif position==3: #print last attribute\n",
    "            with open(fname, mode=pmode, encoding='utf-8') as f1:\n",
    "                ttext = \"\\\"\" + str(tname) + \"\\\": \\\"\" +str(tvalue) + \"\\\"\"\n",
    "                print(ttext, file=f1) \n",
    "                f1.close()        \n",
    "        elif position==4: #end of point attributes\n",
    "            with open(fname, mode=pmode, encoding='utf-8') as f1:  \n",
    "                if endloop==0:\n",
    "                    print(\"}\\n},\", file=f1)\n",
    "                    f1.close()\n",
    "                else:  #end of geojson\n",
    "                    print(\"}\\n}\\n]\\n}\", file=f1)\n",
    "                    f1.close()   \n",
    "        "
   ]
  },
  {
   "cell_type": "code",
   "execution_count": 3,
   "metadata": {},
   "outputs": [],
   "source": [
    "def probabilitydate(inputlist, probability, first): #calculate soil date with selected probability from list of soil dates of each year\n",
    "    listlong = len(inputlist)\n",
    "    if listlong == 1:\n",
    "        outputdate = 0\n",
    "        return outputdate\n",
    "    elif listlong == 0:\n",
    "        outputdate = 0\n",
    "        return outputdate\n",
    "    else:\n",
    "        orderlist = orderedlist(inputlist)\n",
    "        valuelist = daynumberlist(orderlist)\n",
    "        value = 0\n",
    "        if first==1:\n",
    "            value = int(gauss_value(valuelist, probability))\n",
    "        else: \n",
    "            probability=100-probability\n",
    "            value = int(gauss_value(valuelist, probability))\n",
    "        outputdate = orderlist[0] + timedelta(days=value)\n",
    "        return outputdate"
   ]
  },
  {
   "cell_type": "code",
   "execution_count": 4,
   "metadata": {},
   "outputs": [],
   "source": [
    "def trend(inputlist, nametrend,namediff, namedays,fnamesoildates): #calculate soil date with selected probability from list of soil dates of each year\n",
    "    listlong = len(inputlist)\n",
    "    if listlong <= 1:\n",
    "        trendcoef = 0\n",
    "        timediff = 0\n",
    "        numberdaylist = 0\n",
    "    else:\n",
    "        numberdaylist = datelist2numblist(inputlist)\n",
    "        x = np.arange(0,len(numberdaylist))\n",
    "        y = numberdaylist\n",
    "        z = np.polyfit(x,y,1)\n",
    "        trendcoef=z[0]\n",
    "        timediff=int(trendcoef*(listlong-1))\n",
    "    print_geojson(nametrend, trendcoef, fnamesoildates, 0, 0, 0, 2, 0)\n",
    "    print_geojson(namediff, timediff, fnamesoildates, 0, 0, 0, 2, 0)\n",
    "    print_geojson(namedays, numberdaylist, fnamesoildates, 0, 0, 0, 2, 0)"
   ]
  },
  {
   "cell_type": "code",
   "execution_count": 5,
   "metadata": {},
   "outputs": [],
   "source": [
    "def datelist2numblist(inputlist): # from list of dates to list of numbers (number of day in year)\n",
    "    listlong = len(inputlist)\n",
    "    outputlist = []\n",
    "    firstdayinyear = date(2030, 1, 1) \n",
    "    for j in range (0,listlong,1):\n",
    "        if inputlist[j]!=0:\n",
    "            tempvalue = same_year(inputlist[j]) - firstdayinyear  \n",
    "            outputlist.append(tempvalue.days)\n",
    "      \n",
    "       \n",
    "    return outputlist"
   ]
  },
  {
   "cell_type": "code",
   "execution_count": 6,
   "metadata": {},
   "outputs": [],
   "source": [
    "def same_year(daylong): #change date to same year (2030) for next calculation\n",
    "        sdaylong = str(daylong)\n",
    "        tday = int(sdaylong[8:10])\n",
    "        tmonth = int(sdaylong[5:7])\n",
    "        sameyear = date(2030, tmonth, tday)\n",
    "   \n",
    "    \n",
    "        return sameyear"
   ]
  },
  {
   "cell_type": "code",
   "execution_count": 7,
   "metadata": {},
   "outputs": [],
   "source": [
    "def gauss_value(inputlist, probability): #value of gaussian probability from values of input list\n",
    "    \n",
    "    mean = np.mean(inputlist)\n",
    "    sigma = np.std(inputlist)\n",
    "    values = np.random.normal(mean,sigma,10000)\n",
    "    \n",
    "    value = np.percentile(values,probability)\n",
    "    \n",
    "    return value\n",
    "    "
   ]
  },
  {
   "cell_type": "code",
   "execution_count": 8,
   "metadata": {},
   "outputs": [],
   "source": [
    "def orderedlist(inputlist): #sort list by date\n",
    "    listlong = len(inputlist)\n",
    "    for j in range (0,listlong-1,1):\n",
    "        for i in range(j+1, listlong, 1):\n",
    "            firstday = inputlist[j]\n",
    "            secondday = inputlist[i]\n",
    "            sfirstday = str(firstday)\n",
    "            ssecondday = str(secondday)\n",
    "            fday = int(sfirstday[8:10])\n",
    "            fmonth = int(sfirstday[5:7])\n",
    "            sday = int(ssecondday[8:10])\n",
    "            smonth = int(ssecondday[5:7])\n",
    "            if fday<10:\n",
    "                firstval=str(fmonth)+\"0\"+str(fday)\n",
    "            else:\n",
    "                firstval=str(fmonth)+str(fday)\n",
    "            if sday<10:\n",
    "                secondval=str(smonth)+\"0\"+str(sday)\n",
    "            else:\n",
    "                secondval=str(smonth)+str(sday)\n",
    "            firstvalue = int(firstval)\n",
    "            secondvalue = int(secondval)\n",
    "            if secondvalue < firstvalue:\n",
    "                inputlist[j]=secondday\n",
    "                inputlist[i]=firstday\n",
    "       \n",
    "    return inputlist"
   ]
  },
  {
   "cell_type": "code",
   "execution_count": 9,
   "metadata": {},
   "outputs": [],
   "source": [
    "def daynumberlist(orderlist): #from ordered dates to number of days from first date \n",
    "    listlong = len(orderlist)\n",
    "    outputlist=[]\n",
    "    outputlist.append(0)\n",
    "    for i in range(1, listlong, 1):\n",
    "        difference = orderlist[i] - orderlist[0]\n",
    "        outputlist.append(difference.days)\n",
    "    return outputlist    \n",
    "    \n",
    "    "
   ]
  },
  {
   "cell_type": "markdown",
   "metadata": {},
   "source": [
    "###  Find fertilizing date: function for one place"
   ]
  },
  {
   "cell_type": "code",
   "execution_count": 10,
   "metadata": {},
   "outputs": [],
   "source": [
    "from datetime import date, timedelta\n",
    "def findfertdate(latitude,longitude,year,soildegree,dayinrow,starthourday,endhourday,fnamesoil,im,lastlist,soilparameter):\n",
    "      \n",
    "       \n",
    "        \n",
    "    #determination of winter and summer:\n",
    "    wintermonth=1\n",
    "    summermonth=7\n",
    "    if latitude<0:\n",
    "        wintermonth=7\n",
    "        summermonth=1\n",
    "    \n",
    "    # Last day with temperature above X degree:\n",
    "    startmonth=summermonth\n",
    "    endmonth=wintermonth\n",
    "    lastsoilday=0\n",
    "    daysbefore=0\n",
    "    startdate=1\n",
    "    enddate=1\n",
    "    if endmonth == 1:\n",
    "        endmonth=12\n",
    "        enddate=31\n",
    "    sdate = date(year, startmonth, startdate)   # start date for searching last soil date\n",
    "    edate = date(year, endmonth, enddate)   # end date for searching last soil date\n",
    "    delta = edate - sdate       # as timedelta\n",
    "    for i in range(delta.days):\n",
    "        daylong = sdate + timedelta(days=i)\n",
    "        sdaylong = str(daylong)\n",
    "        tday = int(sdaylong[8:10])\n",
    "        tmonth = int(sdaylong[5:7])\n",
    "        tyear = int(sdaylong[0:4])\n",
    "        dayavg = [] # list for hour data\n",
    "        for hour in range(starthourday, endhourday+1, 1): # for specific hours (all day,only sunrise hours,..)\n",
    "            time=convert_time_reverse(datetime.datetime(tyear, tmonth, tday, hour, 0))\n",
    "            slice_dictionary={'lon':[longitude,],'lat':[latitude],'time':[int(time)]}\n",
    "            currenttemp=kelvin_to_celsius_vector(im.slice(soilparameter,slice_dictionary))  \n",
    "            dayavg.append(currenttemp)\n",
    "        dayaverage = sum(dayavg)/len(dayavg)\n",
    "        if dayaverage >= soildegree:  # under soildegree?\n",
    "            lastsoilday=daylong\n",
    "            if daysbefore>=dayinrow-1:\n",
    "                lastsoilday=daylong\n",
    "            daysbefore=+1\n",
    "        else:\n",
    "            daysbefore=0\n",
    "    \n",
    "    tvarname = \"LastD\"+ str(year)\n",
    "    print_geojson(tvarname, lastsoilday, fnamesoil, longitude, latitude, 0, 2, 0)\n",
    "    if lastsoilday!= 0:\n",
    "        tvalue = same_year(lastsoilday)\n",
    "        lastlist.append(tvalue)\n",
    "    \n",
    "    \n",
    "                     \n",
    "    \n",
    "        \n",
    "                  "
   ]
  },
  {
   "cell_type": "markdown",
   "metadata": {},
   "source": [
    "### Find fertilizing date: iteration by selected years"
   ]
  },
  {
   "cell_type": "code",
   "execution_count": 11,
   "metadata": {},
   "outputs": [],
   "source": [
    "def fertdateyearly(latorder,lonorder,startyear,endyear,soildegree,dayinrow,starthourday,endhourday,fnamesoil,endloop,datafolder,probability,soilparameter):\n",
    "    print_geojson(\"\", \"\", fnamesoil, 0, 0, 0, 1,0)\n",
    "    lastlist = []\n",
    "       \n",
    "    for year in range(startyear, endyear+1, 1):\n",
    "        source = datafolder + '/' + str(year) + '.nc' \n",
    "        im=Image(netCDF4.Dataset(source,'r'))   \n",
    "        longlist = im.get_data().variables['lon'][:]\n",
    "        latlist= im.get_data().variables['lat'][:]\n",
    "        longitude = longlist [lonorder]   \n",
    "        latitude = latlist[latorder]\n",
    "        if year == startyear:\n",
    "            print_geojson(\"\", \"\", fnamesoil, longitude, latitude, 0, 0,0)\n",
    "        findfertdate(latitude,longitude,year,soildegree,dayinrow,starthourday,endhourday,fnamesoil,im,lastlist,soilparameter)\n",
    "    \n",
    "    nametrend = \"LastDTrCo\"\n",
    "    namediff = \"LastDdiff\"\n",
    "    namedays = \"LastDlist\"\n",
    "    trend(lastlist, nametrend,namediff, namedays,fnamesoil)\n",
    "    \n",
    "    lastprobday = probabilitydate(lastlist, probability, 0)\n",
    "    namelastprob = \"LastD\" + str(probability) \n",
    "    print_geojson(namelastprob, lastprobday, fnamesoil, 0, 0, 0, 3, 0)\n",
    "    print_geojson(\"\", \"\", fnamesoil, 0, 0, 0, 4,endloop)\n",
    "          "
   ]
  },
  {
   "cell_type": "markdown",
   "metadata": {},
   "source": [
    "### Find fertilizing dates: iteration by selected latitudes, longitudes"
   ]
  },
  {
   "cell_type": "code",
   "execution_count": 12,
   "metadata": {},
   "outputs": [],
   "source": [
    "def fertdateplaces(startlat, startlon, endlat, endlon, startyear,endyear,soildegree,dayinrow,starthourday,endhourday,exportfolder,datafolder,fnamesoil1,probability,soilparameter,alllatlonfile):\n",
    "        fnamesoil = exportfolder + \"/\" +fnamesoil1\n",
    "        print_geojson(\"\", \"\", fnamesoil, 0, 0, 1, 0,0)\n",
    "        endloop=0\n",
    "        \n",
    "        if alllatlonfile==1:  # if it is calculated for all latitudes and longitudes in input file\n",
    "            source = datafolder + '/' + str(startyear) + '.nc' \n",
    "            im=Image(netCDF4.Dataset(source,'r')) \n",
    "            arraylon = im.get_data().variables['lon'][0::]\n",
    "            arraylat = im.get_data().variables['lat'][0::]\n",
    "            startlat=0\n",
    "            startlon=0\n",
    "            endlon= len(arraylon)-1\n",
    "            endlat= len(arraylat)-1\n",
    "            \n",
    "        for latorder in range(startlat, endlat+1, 1):\n",
    "            for lonorder in range(startlon, endlon+1, 1):\n",
    "                if latorder==endlat and lonorder==endlon:\n",
    "                    endloop=1\n",
    "                fertdateyearly(latorder,lonorder,startyear,endyear,soildegree,dayinrow,starthourday,endhourday,fnamesoil,endloop,datafolder,probability,soilparameter)\n",
    "        \n",
    "       \n",
    "        "
   ]
  },
  {
   "cell_type": "markdown",
   "metadata": {},
   "source": [
    "## <font color=red>Find fertilizing dates: input parameters and launch</font> "
   ]
  },
  {
   "cell_type": "code",
   "execution_count": null,
   "metadata": {},
   "outputs": [],
   "source": [
    "#Last date with soil temperature above X degree - definition:\n",
    "soildegree=16 #soil temperature for fertilization # we can find last day with soil temperature above 10 / 16 .... degrees of Celsius # integer or double\n",
    "dayinrow=1 #how many days in a row we consider as a last soil date with corresponding temperature #we can find last date or for example last two days of each year # integer\n",
    "soilparameter=\"stl2\" #parameter according to soil temperature depth\n",
    "\n",
    "\n",
    "#Time and probability definition:\n",
    "startyear=2010 #start year (integer) \n",
    "endyear=2019 #end year (integer)  \n",
    "probability=50 # probability (percent) of soil date (integer 10-90)\n",
    "\n",
    "#Optimalization:\n",
    "starthourday=0 # integer 0-23\n",
    "endhourday=23 # integer 0-23, >starthourday\n",
    "\n",
    "#Files/Folders name:\n",
    "datafolder = \"data\" #folder with data files (named by year) for each year #string\n",
    "fnamesoil=\"fertdate\" #name of created files #string\n",
    "exportfolder = \"export\" #for all files (if each file its folder -> insert name of folder to name of file) #export folder must be created #string\n",
    "\n",
    "#Area definition:\n",
    "alllatlonfile=1 #calculate all latitudes and longitudes in input file (1=yes, 0=no)\n",
    "# if alllatlonfile!=0 then:\n",
    "startlat=0 # start number of list of latitudes from used netCDF4 file \n",
    "startlon=0 # start number of list of longitudes from used netCDF4 file \n",
    "endlat=48 # end number of list of latitudes from used netCDF4 file \n",
    "endlon=29 # end number of list of longitudes from used netCDF4 file \n",
    " \n",
    "fertdateplaces(startlat, startlon, endlat, endlon, startyear,endyear,soildegree,dayinrow,starthourday,endhourday,exportfolder,datafolder,fnamesoil,probability,soilparameter,alllatlonfile)\n",
    "\n",
    "\n",
    "\n",
    "\n"
   ]
  },
  {
   "cell_type": "markdown",
   "metadata": {},
   "source": [
    "<font color=red> Output: in export folder is created geojson with points - each point has got attributes: last soil date</font> "
   ]
  },
  {
   "cell_type": "markdown",
   "metadata": {},
   "source": [
    "## From geojson to shp"
   ]
  },
  {
   "cell_type": "code",
   "execution_count": 30,
   "metadata": {},
   "outputs": [
    {
     "data": {
      "text/plain": [
       "<subprocess.Popen at 0x7f132a7439b0>"
      ]
     },
     "execution_count": 30,
     "metadata": {},
     "output_type": "execute_result"
    }
   ],
   "source": [
    "args = ['ogr2ogr', '-f', 'ESRI Shapefile', 'export/fertdate.shp', 'export/fertdate.geojson']\n",
    "subprocess.Popen(args)"
   ]
  }
 ],
 "metadata": {
  "kernelspec": {
   "display_name": "Python 3",
   "language": "python",
   "name": "python3"
  },
  "language_info": {
   "codemirror_mode": {
    "name": "ipython",
    "version": 3
   },
   "file_extension": ".py",
   "mimetype": "text/x-python",
   "name": "python",
   "nbconvert_exporter": "python",
   "pygments_lexer": "ipython3",
   "version": "3.7.3"
  }
 },
 "nbformat": 4,
 "nbformat_minor": 4
}
