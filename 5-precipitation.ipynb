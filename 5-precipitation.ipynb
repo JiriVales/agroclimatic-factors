{
 "cells": [
  {
   "cell_type": "markdown",
   "metadata": {},
   "source": [
    "### import libraries"
   ]
  },
  {
   "cell_type": "code",
   "execution_count": 43,
   "metadata": {},
   "outputs": [
    {
     "name": "stdout",
     "output_type": "stream",
     "text": [
      "Requirement already satisfied: netCDF4 in /opt/conda/lib/python3.7/site-packages (1.5.3)\n",
      "Requirement already satisfied: numpy>=1.7 in /opt/conda/lib/python3.7/site-packages (from netCDF4) (1.17.3)\n",
      "Requirement already satisfied: cftime in /opt/conda/lib/python3.7/site-packages (from netCDF4) (1.0.4.2)\n"
     ]
    }
   ],
   "source": [
    "! pip install netCDF4"
   ]
  },
  {
   "cell_type": "code",
   "execution_count": 1,
   "metadata": {},
   "outputs": [],
   "source": [
    "import netCDF4 # python API to work with netcdf (.nc) files\n",
    "import os\n",
    "import datetime\n",
    "from osgeo import gdal, ogr, osr\n",
    "import numpy as np # library to work with matrixes and computations in general\n",
    "import matplotlib.pyplot as plt # plotting library\n",
    "from auxiliary_classes import convert_time,convert_time_reverse,kelvin_to_celsius,kelvin_to_celsius_vector,Grid,Image,subImage\n",
    "import json\n",
    "import geojson, gdal, subprocess"
   ]
  },
  {
   "cell_type": "markdown",
   "metadata": {},
   "source": [
    "### auxiliary functions"
   ]
  },
  {
   "cell_type": "code",
   "execution_count": 2,
   "metadata": {},
   "outputs": [],
   "source": [
    "def print_geojson(tname, tvalue, fname, longitude, latitude, startdoc, position,endloop): #for printing to geojson - start,end,attributes\n",
    "    fname = fname +\".geojson\"\n",
    "    pmode=\"a\"\n",
    "    if startdoc==1:\n",
    "        with open(fname, mode=\"w\", encoding='utf-8') as f1: #start of geojson\n",
    "            tstring = \"{\\n\\\"type\\\": \\\"FeatureCollection\\\",\\n\\\"features\\\": [\"\n",
    "            print(tstring, file=f1)\n",
    "            f1.close()\n",
    "    else:\n",
    "        if position==0: #for printing to geojson - geometry, longitude, latitude\n",
    "            tstring = \"\\\"type\\\": \\\"Feature\\\",\\n\\\"geometry\\\": {\\n\\\"type\\\": \\\"Point\\\",\\n\\\"coordinates\\\": [\" + str(longitude) + \",\"+ str(latitude) + \"]\\n},\\n\\\"properties\\\": {\"\n",
    "            fname = fname \n",
    "            with open(fname, mode=pmode, encoding='utf-8') as f1:\n",
    "                print(tstring, file=f1)\n",
    "                f1.close()\n",
    "        elif position==1:  #start of point attributes\n",
    "            with open(fname, mode=pmode, encoding='utf-8') as f1:\n",
    "                print(\"{\", file=f1)\n",
    "                f1.close()  \n",
    "        elif position==2: #print attribute (not last)\n",
    "             with open(fname, mode=pmode, encoding='utf-8') as f1:\n",
    "                ttext = \"\\\"\" + str(tname) + \"\\\": \\\"\" +str(tvalue) + \"\\\",\"\n",
    "                print(ttext, file=f1) \n",
    "                f1.close() \n",
    "        elif position==3: #print last attribute\n",
    "            with open(fname, mode=pmode, encoding='utf-8') as f1:\n",
    "                ttext = \"\\\"\" + str(tname) + \"\\\": \\\"\" +str(tvalue) + \"\\\"\"\n",
    "                print(ttext, file=f1) \n",
    "                f1.close()        \n",
    "        elif position==4: #end of point attributes\n",
    "            with open(fname, mode=pmode, encoding='utf-8') as f1:  \n",
    "                if endloop==0:\n",
    "                    print(\"}\\n},\", file=f1)\n",
    "                    f1.close()\n",
    "                else:  #end of geojson\n",
    "                    print(\"}\\n}\\n]\\n}\", file=f1)\n",
    "                    f1.close()  "
   ]
  },
  {
   "cell_type": "code",
   "execution_count": 3,
   "metadata": {},
   "outputs": [],
   "source": [
    "def trend(inputlist, nametrend, namediff, fname): \n",
    "    listlong = len(inputlist)\n",
    "    if listlong <= 1:\n",
    "        trendcoef = 0\n",
    "        timediff = 0\n",
    "        \n",
    "    else:\n",
    "        x = np.arange(0,len(inputlist))\n",
    "        y = inputlist\n",
    "        z = np.polyfit(x,y,1)\n",
    "        trendcoef=z[0]\n",
    "        timediff=int(trendcoef*(listlong-1))\n",
    "    print_geojson(nametrend, trendcoef, fname, 0, 0, 0, 2, 0)\n",
    "    print_geojson(namediff, timediff, fname, 0, 0, 0, 3, 0)\n",
    "    \n",
    "    \n",
    "    "
   ]
  },
  {
   "cell_type": "code",
   "execution_count": 4,
   "metadata": {},
   "outputs": [],
   "source": [
    "def trend2(inputlist, nametrend, namediff, endyear, startyear, fname,fnameavg):\n",
    "    listlong = endyear-startyear+1\n",
    "    numberweeks = len(inputlist[0])\n",
    "    for j in range(0, numberweeks,1):\n",
    "        tempweek = j +1\n",
    "        if listlong <= 1:\n",
    "            trendcoef = 0\n",
    "            timediff = 0\n",
    "            \n",
    "        else:\n",
    "            x = np.arange(0,listlong)\n",
    "            y = []\n",
    "            for i in range(0, listlong, 1): \n",
    "                y.append( inputlist[i][j])\n",
    "            z = np.polyfit(x,y,1)\n",
    "            trendcoef=z[0]\n",
    "            timediff=int(trendcoef*(listlong-1))\n",
    "        nametrend2 = nametrend + str(tempweek)\n",
    "        namediff2 = namediff + str(tempweek)\n",
    "        print_geojson(nametrend2, trendcoef, fname, 0, 0, 0, 2, 0)\n",
    "        print_geojson(nametrend2, trendcoef, fnameavg, 0, 0, 0, 2, 0)\n",
    "        if j == (numberweeks-1):\n",
    "            print_geojson(namediff2, timediff, fname, 0, 0, 0, 3, 0)\n",
    "            print_geojson(namediff2, timediff, fnameavg, 0, 0, 0, 3, 0)\n",
    "        else:\n",
    "            print_geojson(namediff2, timediff, fname, 0, 0, 0, 2, 0)\n",
    "            print_geojson(namediff2, timediff, fnameavg, 0, 0, 0, 2, 0)\n",
    "            \n",
    "    \n",
    "    "
   ]
  },
  {
   "cell_type": "code",
   "execution_count": 5,
   "metadata": {},
   "outputs": [],
   "source": [
    "def avg2Dlist(inputlist,startyear,endyear): #average for 2D list ->1D list # inputs: inputlist = 2D list, output: avglist = 1D list with avg values\n",
    "    numberyear = endyear-startyear+1\n",
    "    listlen = len(inputlist[0])\n",
    "    templist = []  \n",
    "    avglist = []  \n",
    "    for i in range(0, listlen,1):\n",
    "        for j in range(0, numberyear,1):\n",
    "            templist.append(inputlist[j][i])\n",
    "        tempvalue=sum(templist)/len(templist)\n",
    "        avglist.append(tempvalue) \n",
    "        templist = [] \n",
    "    return avglist\n",
    "            "
   ]
  },
  {
   "cell_type": "code",
   "execution_count": 6,
   "metadata": {},
   "outputs": [],
   "source": [
    "def acumulatelist(inputlist): #average for 2D list ->1D list # inputs: inputlist = 2D list, output: avglist = 1D list with avg values\n",
    "    listlen = len(inputlist)\n",
    "    for i in range (0,listlen-1,1):\n",
    "        inputlist[i+1] += inputlist[i]\n",
    "    return inputlist"
   ]
  },
  {
   "cell_type": "code",
   "execution_count": 7,
   "metadata": {},
   "outputs": [],
   "source": [
    "def printlistasweekgeojson(inputlist,name,fname,fnameavg,endloop): # from list of week values print geojson\n",
    "    listlen = len(inputlist)\n",
    "    for i in range(0, listlen,1):\n",
    "        tempvalue=inputlist[i]\n",
    "        tvarname = name + str(i+1)\n",
    "        if endloop==1 and i == (listlen-1):\n",
    "            print_geojson(tvarname, tempvalue, fname, 0, 0, 0, 3, 0)\n",
    "            print_geojson(tvarname, tempvalue, fnameavg, 0, 0, 0, 2, 0)\n",
    "        else:\n",
    "            print_geojson(tvarname, tempvalue, fname, 0, 0, 0, 2, 0)\n",
    "            print_geojson(tvarname, tempvalue, fnameavg, 0, 0, 0, 2, 0)\n",
    "        \n",
    "    "
   ]
  },
  {
   "cell_type": "markdown",
   "metadata": {},
   "source": [
    "###  precipitation: function for one place"
   ]
  },
  {
   "cell_type": "code",
   "execution_count": 8,
   "metadata": {},
   "outputs": [],
   "source": [
    "from datetime import date, timedelta\n",
    "def findprecipitation(latitude,longitude,year,endyear,im,enddate, startdate, fnamepreci, allweekprecilist,precipitationparam, fnameannualprec, yearprecilist, unitcoeff,fnamepreciaccum,fnamempreciaccum, fnamempreci,allmonthprecilist):\n",
    "    \n",
    "    \n",
    "    sdate = startdate   # start date for searching last frost date\n",
    "    edate = enddate   # end date for searching last frost date\n",
    "    delta = edate - sdate       # as timedelta\n",
    "    sevendays=0 # for determination of new week (1-7)\n",
    "    currentweek=1 # for determination of weeks\n",
    "    weekprecilist = []\n",
    "    weekprecipitation=0\n",
    "    weekprecilist = []\n",
    "    monthprecilist =[]\n",
    "    starthourday = 0\n",
    "    endhourday = 23\n",
    "    weekprecisum = 0\n",
    "    yearprecisum = 0\n",
    "    monthprecisum = 0\n",
    "    sdaylong = str(sdate)\n",
    "    tmonth = int(sdaylong[5:7])\n",
    "    currentmonth = tmonth\n",
    "    \n",
    "    for i in range(delta.days+1):\n",
    "        daylong = sdate + timedelta(days=i)\n",
    "        sdaylong = str(daylong)\n",
    "        tday = int(sdaylong[8:10])\n",
    "        tmonth = int(sdaylong[5:7])\n",
    "        tyear = int(sdaylong[0:4])\n",
    "        dayprecisum = 0 # start value\n",
    "        sevendays+=1\n",
    "        for hour in range(starthourday, endhourday+1, 1): # for specific hours (all day,only sunrise hours,..)\n",
    "            time=convert_time_reverse(datetime.datetime(tyear, tmonth, tday, hour, 0)) \n",
    "            slice_dictionary={'lon':[longitude,],'lat':[latitude],'time':[int(time)]}\n",
    "            currentpreci=float(im.slice(precipitationparam,slice_dictionary))*unitcoeff \n",
    "            dayprecisum += currentpreci\n",
    "            yearprecisum += currentpreci\n",
    "                    \n",
    "        if daylong == edate: # save month date for last date in season\n",
    "            monthprecisum+=dayprecisum\n",
    "            monthprecilist.append(monthprecisum)\n",
    "            tvarname = \"M\" + str(year) + \"_\" + str(tmonth)\n",
    "            print_geojson(tvarname, monthprecisum, fnamempreci, 0, 0, 0, 2, 0)\n",
    "            tvarname = \"M\" + str(year) + \"_\" + str(tmonth)\n",
    "            print_geojson(tvarname, yearprecisum, fnamempreciaccum, 0, 0, 0, 2, 0)\n",
    "        \n",
    "        \n",
    "        elif tmonth == currentmonth:\n",
    "            monthprecisum+=dayprecisum\n",
    "        \n",
    "        else:\n",
    "            monthprecilist.append(monthprecisum)\n",
    "            tvarname = \"M\" + str(year) + \"_\" + str(tmonth)\n",
    "            print_geojson(tvarname, monthprecisum, fnamempreci, 0, 0, 0, 2, 0)\n",
    "            tvarname = \"M\" + str(year) + \"_\" + str(tmonth)\n",
    "            print_geojson(tvarname, yearprecisum, fnamempreciaccum, 0, 0, 0, 2, 0)\n",
    "            monthprecisum=dayprecisum\n",
    "            currentmonth=tmonth\n",
    "            \n",
    "                \n",
    "        if daylong == edate: # save week date for last date in season\n",
    "            \n",
    "            weekprecisum+=dayprecisum\n",
    "            weekprecilist.append(weekprecisum)\n",
    "            tvarname = \"W\" + str(year) + \"_\" + str(currentweek)\n",
    "            print_geojson(tvarname, weekprecisum, fnamepreci, 0, 0, 0, 2, 0)\n",
    "            tvarname = \"W\" + str(year) + \"_\" + str(currentweek)\n",
    "            print_geojson(tvarname, yearprecisum, fnamepreciaccum, 0, 0, 0, 2, 0)\n",
    "            \n",
    "        elif sevendays<=7:  # new week?   \n",
    "            weekprecisum+=dayprecisum\n",
    "            \n",
    "        else:\n",
    "            weekprecilist.append(weekprecisum)\n",
    "            tvarname = \"W\" + str(year) + \"_\" + str(currentweek)\n",
    "            print_geojson(tvarname, weekprecisum, fnamepreci, 0, 0, 0, 2, 0)\n",
    "            tvarname = \"W\" + str(year) + \"_\" + str(currentweek)\n",
    "            print_geojson(tvarname, yearprecisum, fnamepreciaccum, 0, 0, 0, 2, 0)\n",
    "            weekprecisum=dayprecisum\n",
    "            sevendays=0\n",
    "            currentweek+=1\n",
    "        \n",
    "                    \n",
    "          \n",
    "    allweekprecilist.append(weekprecilist)\n",
    "    allmonthprecilist.append(monthprecilist)\n",
    "    yearprecilist.append(yearprecisum)\n",
    "    tvarname = \"Pr\" + str(year) \n",
    "    print_geojson(tvarname, yearprecisum, fnameannualprec, 0, 0, 0, 2, 0)\n",
    "   \n",
    "       \n",
    "    \n",
    "    \n",
    "    \n",
    "    \n",
    "                  "
   ]
  },
  {
   "cell_type": "markdown",
   "metadata": {},
   "source": [
    "### Find deficits: function for selected years"
   ]
  },
  {
   "cell_type": "code",
   "execution_count": 9,
   "metadata": {},
   "outputs": [],
   "source": [
    "def precipitationyearly(latorder,lonorder,startyear,endyear,endloop,datafolder,fnamepreci,enddatem, startdatem,enddated, startdated,precipitationparam, fnameannualprec, unitcoeff,fnamepreciaccum,fnameavgprecipitation,fnamempreciaccum, fnamempreci,fnameavgmprecipitation):\n",
    "    print_geojson(\"\", \"\", fnamepreci, 0, 0, 0, 1,0)\n",
    "    print_geojson(\"\", \"\", fnamepreciaccum, 0, 0, 0, 1,0)\n",
    "    print_geojson(\"\", \"\", fnameannualprec, 0, 0, 0, 1,0)\n",
    "    print_geojson(\"\", \"\", fnameavgprecipitation, 0, 0, 0, 1,0)\n",
    "    print_geojson(\"\", \"\", fnamempreci, 0, 0, 0, 1,0)\n",
    "    print_geojson(\"\", \"\", fnamempreciaccum, 0, 0, 0, 1,0)\n",
    "    print_geojson(\"\", \"\", fnameavgmprecipitation, 0, 0, 0, 1,0)\n",
    "    endloopyear =0\n",
    "   \n",
    "    \n",
    "    \n",
    "    \n",
    "    allweekprecilist=[] # 2D list for all weeks many years\n",
    "    allmonthprecilist=[] # 2D list for all months many years\n",
    "    yearprecilist=[] # 2D list for all weeks many years\n",
    "    for year in range(startyear, endyear+1, 1):\n",
    "        source = datafolder + '/' + str(year) + '.nc' \n",
    "        im=Image(netCDF4.Dataset(source,'r'))   \n",
    "        longlist = im.get_data().variables['lon'][:]\n",
    "        latlist= im.get_data().variables['lat'][:]\n",
    "        longitude = longlist [lonorder]   \n",
    "        latitude = latlist[latorder]\n",
    "        if year == startyear:\n",
    "            print_geojson(\"\", \"\", fnamepreci, longitude, latitude, 0, 0,0)\n",
    "            print_geojson(\"\", \"\", fnameannualprec, longitude, latitude, 0, 0,0)\n",
    "            print_geojson(\"\", \"\", fnamepreciaccum, longitude, latitude, 0, 0,0)\n",
    "            print_geojson(\"\", \"\", fnameavgprecipitation, longitude, latitude, 0, 0,0)\n",
    "            print_geojson(\"\", \"\", fnamempreci, longitude, latitude, 0, 0,0)\n",
    "            print_geojson(\"\", \"\", fnamempreciaccum, longitude, latitude, 0, 0,0)\n",
    "            print_geojson(\"\", \"\", fnameavgmprecipitation, longitude, latitude, 0, 0,0)\n",
    "        if year == endyear:\n",
    "            endloopyear=1\n",
    "            \n",
    "            \n",
    "        \n",
    "        enddate=date(year, enddatem, enddated) \n",
    "        startdate=date(year, startdatem, startdated) \n",
    "                  \n",
    "        \n",
    "        \n",
    "        \n",
    "                 \n",
    "            \n",
    "        findprecipitation(latitude,longitude,year,endyear,im,enddate, startdate, fnamepreci, allweekprecilist,precipitationparam, fnameannualprec, yearprecilist, unitcoeff,fnamepreciaccum,fnamempreciaccum, fnamempreci,allmonthprecilist)\n",
    "    \n",
    "    \n",
    "     \n",
    "    \n",
    "    \n",
    "    avgweekprecilist = avg2Dlist(allweekprecilist,startyear,endyear)\n",
    "    avgmonthprecilist = avg2Dlist(allmonthprecilist,startyear,endyear)\n",
    "    printlistasweekgeojson(avgweekprecilist,\"PrW\",fnamepreci,fnameavgprecipitation, 0)\n",
    "    printlistasweekgeojson(avgmonthprecilist,\"PrM\",fnamempreci,fnameavgmprecipitation, 0)\n",
    "    \n",
    "    avgweekacuprecilist = acumulatelist(avgweekprecilist)\n",
    "    avgmonthacuprecilist = acumulatelist(avgmonthprecilist)\n",
    "    \n",
    "    printlistasweekgeojson(avgweekacuprecilist,\"APrW\",fnamepreciaccum,fnameavgprecipitation, endloopyear)\n",
    "    printlistasweekgeojson(avgmonthacuprecilist,\"APrM\",fnamempreciaccum,fnameavgmprecipitation, endloopyear)\n",
    "    \n",
    "    \n",
    "    avgpreciyear=sum(yearprecilist)/len(yearprecilist)\n",
    "    print_geojson(\"AvgPre\", avgpreciyear, fnameannualprec, 0, 0, 0, 2, 0)\n",
    "    \n",
    "    nametrend = \"AnTrCo\"\n",
    "    namediff = \"Andiff\"\n",
    "    trend(yearprecilist, nametrend, namediff,fnameannualprec)\n",
    "    \n",
    "    nametrend = \"TrCo\"\n",
    "    namediff = \"Diff\"\n",
    "    trend2(allweekprecilist, nametrend, namediff, endyear, startyear, fnamepreci,fnameavgprecipitation)\n",
    "    trend2(allmonthprecilist, nametrend, namediff, endyear, startyear, fnamempreci,fnameavgmprecipitation)\n",
    "   \n",
    "    print_geojson(\"\", \"\", fnamepreci, 0, 0, 0, 4,endloop)    \n",
    "    print_geojson(\"\", \"\", fnameannualprec, 0, 0, 0, 4,endloop)    \n",
    "    print_geojson(\"\", \"\", fnamepreciaccum, 0, 0, 0, 4,endloop)\n",
    "    print_geojson(\"\", \"\", fnameavgprecipitation, 0, 0, 0, 4,endloop)\n",
    "    print_geojson(\"\", \"\", fnamempreci, 0, 0, 0, 4,endloop)    \n",
    "    print_geojson(\"\", \"\", fnamempreciaccum, 0, 0, 0, 4,endloop)\n",
    "    print_geojson(\"\", \"\", fnameavgmprecipitation, 0, 0, 0, 4,endloop)\n",
    "          "
   ]
  },
  {
   "cell_type": "markdown",
   "metadata": {},
   "source": [
    "### Find deficits: function for selected latitudes, longitudes"
   ]
  },
  {
   "cell_type": "code",
   "execution_count": 10,
   "metadata": {},
   "outputs": [],
   "source": [
    "def precipitationplaces(startlat, startlon, endlat, endlon, startyear,endyear,exportfolder,datafolder,fnamepreci1,enddatem, startdatem,enddated, startdated, alllatlonfile, precipitationparam, fnameannualprec1, unitcoeff,fnamepreciaccum1,fnameavgprecipitation1,fnamempreciaccum1, fnamempreci1,fnameavgmprecipitation1):\n",
    "        fnamepreci= exportfolder + \"/\" +fnamepreci1\n",
    "        fnamepreciaccum= exportfolder + \"/\" +fnamepreciaccum1\n",
    "        fnameannualprec= exportfolder + \"/\" +fnameannualprec1\n",
    "        fnameavgprecipitation= exportfolder + \"/\" +fnameavgprecipitation1\n",
    "        fnamempreci= exportfolder + \"/\" +fnamempreci1\n",
    "        fnamempreciaccum= exportfolder + \"/\" +fnamempreciaccum1\n",
    "        fnameavgmprecipitation= exportfolder + \"/\" +fnameavgmprecipitation1\n",
    "        \n",
    "         #start in geojson files:\n",
    "        print_geojson(\"\", \"\", fnamepreci, 0, 0, 1, 0,0)\n",
    "        print_geojson(\"\", \"\", fnamepreciaccum, 0, 0, 1, 0,0)\n",
    "        print_geojson(\"\", \"\", fnameannualprec, 0, 0, 1, 0,0)\n",
    "        print_geojson(\"\", \"\", fnameavgprecipitation, 0, 0, 1, 0,0)\n",
    "        print_geojson(\"\", \"\", fnamempreci, 0, 0, 1, 0,0)\n",
    "        print_geojson(\"\", \"\", fnamempreciaccum, 0, 0, 1, 0,0)\n",
    "        print_geojson(\"\", \"\", fnameavgmprecipitation, 0, 0, 1, 0,0)\n",
    "        \n",
    "                \n",
    "        endloop=0\n",
    "        \n",
    "        if alllatlonfile==1:  # if it is calculated for all latitudes and longitudes in input file\n",
    "            source = datafolder + '/' + str(startyear) + '.nc' \n",
    "            im=Image(netCDF4.Dataset(source,'r')) \n",
    "            arraylon = im.get_data().variables['lon'][0::]\n",
    "            arraylat = im.get_data().variables['lat'][0::]\n",
    "            startlat=0\n",
    "            startlon=0\n",
    "            endlon= len(arraylon)-1\n",
    "            endlat= len(arraylat)-1\n",
    "        \n",
    "        for latorder in range(startlat, endlat+1, 1):\n",
    "            for lonorder in range(startlon, endlon+1, 1):\n",
    "                if latorder==endlat and lonorder==endlon:\n",
    "                    endloop=1\n",
    "                precipitationyearly(latorder,lonorder,startyear,endyear,endloop,datafolder,fnamepreci,enddatem, startdatem,enddated, startdated,precipitationparam, fnameannualprec, unitcoeff,fnamepreciaccum,fnameavgprecipitation,fnamempreciaccum, fnamempreci,fnameavgmprecipitation)\n",
    "       \n",
    "       \n",
    "        "
   ]
  },
  {
   "cell_type": "markdown",
   "metadata": {},
   "source": [
    "## <font color=red>Find precipitation: input parameters and launch</font> "
   ]
  },
  {
   "cell_type": "code",
   "execution_count": null,
   "metadata": {},
   "outputs": [],
   "source": [
    "#Time definition:\n",
    "startyear=2010 #start year (integer) \n",
    "endyear=2019 #end year (integer)  \n",
    "enddatem = 12 # start date (month) each year\n",
    "enddated = 31  # start date (day) each year\n",
    "startdatem = 1 # end date (month) each year\n",
    "startdated = 1 # end date (day) each year\n",
    "\n",
    "#Optimalization:\n",
    "starthourday=0 # integer 0-23\n",
    "endhourday=23 # integer 0-23\n",
    "\n",
    "#Precipitation unit:\n",
    "units = 3  # 1 = m (default), 2 = cm, 3 = mm\n",
    "\n",
    "#Files/Folders name:\n",
    "datafolder = \"data\" #folder with data files (named by year) for each year #string\n",
    "fnamepreci =\"weekly_precipitation\" #name of created files with week precipitation #string\n",
    "fnamepreciaccum =\"weekly_accum_precipitation\" #name of created files with week precipitation #string\n",
    "fnamempreci =\"monthly_precipitation\" #name of created files with month precipitation #string\n",
    "fnamempreciaccum =\"monthly_accum_precipitation\" #name of created files with month precipitation #string\n",
    "fnameavgprecipitation =\"weekly_avg_precipitation\" #name of created files with week precipitation #string\n",
    "fnameavgmprecipitation =\"monthly_avg_precipitation\" #name of created files with month precipitation #string\n",
    "fnameannualprec =\"annualsum_precipitation\" #name of created files with annual/seasonal/defined period precipitation #string\n",
    "exportfolder = \"export-preci\" #for all files (if each file its folder -> insert name of folder to name of file) #export folder must be created #string\n",
    "\n",
    "#Area definition:\n",
    "alllatlonfile=0 #calculate all latitudes and longitudes in input file (1=yes, 0=no)\n",
    "# if alllatlonfile!=0 then:\n",
    "startlat=4 # start number of list of latitudes from used netCDF4 file \n",
    "startlon=4 # start number of list of longitudes from used netCDF4 file \n",
    "endlat=17 # end number of list of latitudes from used netCDF4 file \n",
    "endlon=19 # end number of list of longitudes from used netCDF4 file \n",
    "\n",
    "#Precipitation data parameter:\n",
    "precipitationparam = 'tprate'\n",
    "\n",
    "\n",
    "unitcoeff = 1000\n",
    "if units == 2:\n",
    "    unitcoeff = 100000\n",
    "elif units == 3: \n",
    "    unitcoeff = 1000000\n",
    "\n",
    "\n",
    "\n",
    "\n",
    "precipitationplaces(startlat, startlon, endlat, endlon, startyear,endyear,exportfolder,datafolder,fnamepreci,enddatem, startdatem,enddated, startdated,alllatlonfile,precipitationparam, fnameannualprec, unitcoeff, fnamepreciaccum,fnameavgprecipitation,fnamempreciaccum, fnamempreci,fnameavgmprecipitation)\n",
    "\n",
    "\n",
    "\n",
    "\n"
   ]
  },
  {
   "cell_type": "markdown",
   "metadata": {},
   "source": [
    "## From geojson to shp"
   ]
  },
  {
   "cell_type": "code",
   "execution_count": 25,
   "metadata": {},
   "outputs": [
    {
     "data": {
      "text/plain": [
       "<subprocess.Popen at 0x7fa6ba265d30>"
      ]
     },
     "execution_count": 25,
     "metadata": {},
     "output_type": "execute_result"
    }
   ],
   "source": [
    "args = ['ogr2ogr', '-f', 'ESRI Shapefile', 'export/shp/weekly_precipitation.shp', 'export/weekly_precipitation.geojson']\n",
    "subprocess.Popen(args)"
   ]
  },
  {
   "cell_type": "code",
   "execution_count": 26,
   "metadata": {},
   "outputs": [
    {
     "data": {
      "text/plain": [
       "<subprocess.Popen at 0x7fa6b82290f0>"
      ]
     },
     "execution_count": 26,
     "metadata": {},
     "output_type": "execute_result"
    }
   ],
   "source": [
    "args = ['ogr2ogr', '-f', 'ESRI Shapefile', 'export/shp/weekly_accum_precipitation.shp', 'export/weekly_accum_precipitation.geojson']\n",
    "subprocess.Popen(args)"
   ]
  },
  {
   "cell_type": "code",
   "execution_count": 23,
   "metadata": {},
   "outputs": [
    {
     "data": {
      "text/plain": [
       "<subprocess.Popen at 0x7fa6ba265710>"
      ]
     },
     "execution_count": 23,
     "metadata": {},
     "output_type": "execute_result"
    }
   ],
   "source": [
    "args = ['ogr2ogr', '-f', 'ESRI Shapefile', 'export/shp/annualsum_precipitation.shp', 'export/annualsum_precipitation.geojson']\n",
    "subprocess.Popen(args)"
   ]
  },
  {
   "cell_type": "code",
   "execution_count": null,
   "metadata": {},
   "outputs": [],
   "source": [
    "args = ['ogr2ogr', '-f', 'ESRI Shapefile', 'export/shp/weekly_avg_precipitation.shp', 'export/weekly_avg_precipitation.geojson']\n",
    "subprocess.Popen(args)"
   ]
  },
  {
   "cell_type": "code",
   "execution_count": null,
   "metadata": {},
   "outputs": [],
   "source": [
    "args = ['ogr2ogr', '-f', 'ESRI Shapefile', 'export/shp/monthly_precipitation.shp', 'export/monthly_precipitation.geojson']\n",
    "subprocess.Popen(args)"
   ]
  },
  {
   "cell_type": "code",
   "execution_count": null,
   "metadata": {},
   "outputs": [],
   "source": [
    "args = ['ogr2ogr', '-f', 'ESRI Shapefile', 'export/shp/monthly_accum_precipitation.shp', 'export/monthly_accum_precipitation.geojson']\n",
    "subprocess.Popen(args)"
   ]
  },
  {
   "cell_type": "code",
   "execution_count": null,
   "metadata": {},
   "outputs": [],
   "source": [
    "args = ['ogr2ogr', '-f', 'ESRI Shapefile', 'export/shp/monthly_avg_precipitation.shp', 'export/monthly_avg_precipitation.geojson']\n",
    "subprocess.Popen(args)"
   ]
  }
 ],
 "metadata": {
  "kernelspec": {
   "display_name": "Python 3",
   "language": "python",
   "name": "python3"
  },
  "language_info": {
   "codemirror_mode": {
    "name": "ipython",
    "version": 3
   },
   "file_extension": ".py",
   "mimetype": "text/x-python",
   "name": "python",
   "nbconvert_exporter": "python",
   "pygments_lexer": "ipython3",
   "version": "3.7.3"
  }
 },
 "nbformat": 4,
 "nbformat_minor": 4
}
