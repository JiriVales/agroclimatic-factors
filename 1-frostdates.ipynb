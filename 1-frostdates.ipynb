{
 "cells": [
  {
   "cell_type": "markdown",
   "metadata": {},
   "source": [
    "### import libraries"
   ]
  },
  {
   "cell_type": "code",
   "execution_count": 1,
   "metadata": {},
   "outputs": [
    {
     "name": "stdout",
     "output_type": "stream",
     "text": [
      "Collecting netCDF4\n",
      "\u001b[?25l  Downloading https://files.pythonhosted.org/packages/bf/da/79d6762e0ef66f913249684122d567bddfada6b83cdf9e96c82550fd2d14/netCDF4-1.5.3-cp37-cp37m-manylinux1_x86_64.whl (4.1MB)\n",
      "\u001b[K     |████████████████████████████████| 4.1MB 3.9MB/s eta 0:00:0101\n",
      "\u001b[?25hCollecting cftime\n",
      "\u001b[?25l  Downloading https://files.pythonhosted.org/packages/30/5d/f1dedbe4e3d956e36f5342e7999c9b288ec49f7cb460ce232f3a57a7ee35/cftime-1.0.4.2-cp37-cp37m-manylinux1_x86_64.whl (308kB)\n",
      "\u001b[K     |████████████████████████████████| 317kB 48.9MB/s eta 0:00:01\n",
      "\u001b[?25hRequirement already satisfied: numpy>=1.7 in /opt/conda/lib/python3.7/site-packages (from netCDF4) (1.17.3)\n",
      "Installing collected packages: cftime, netCDF4\n",
      "Successfully installed cftime-1.0.4.2 netCDF4-1.5.3\n"
     ]
    }
   ],
   "source": [
    "! pip install netCDF4 # python API to work with netcdf (.nc) files"
   ]
  },
  {
   "cell_type": "code",
   "execution_count": 1,
   "metadata": {},
   "outputs": [],
   "source": [
    "import netCDF4 # python API to work with netcdf (.nc) files\n",
    "import os\n",
    "import datetime \n",
    "from osgeo import gdal, ogr, osr\n",
    "import numpy as np # library to work with matrixes and computations in general\n",
    "import matplotlib.pyplot as plt # plotting library\n",
    "from auxiliary_classes import convert_time,convert_time_reverse,kelvin_to_celsius,kelvin_to_celsius_vector,Grid,Image,subImage\n",
    "import json\n",
    "import geojson, gdal, subprocess"
   ]
  },
  {
   "cell_type": "markdown",
   "metadata": {},
   "source": [
    "### auxiliary functions"
   ]
  },
  {
   "cell_type": "code",
   "execution_count": 2,
   "metadata": {},
   "outputs": [],
   "source": [
    "def print_geojson(tname, tvalue, fname, longitude, latitude, startdoc, position,endloop): #for printing to geojson - start,end,attributes\n",
    "    fname = fname +\".geojson\"\n",
    "    pmode=\"a\"\n",
    "    if startdoc==1:\n",
    "        with open(fname, mode=\"w\", encoding='utf-8') as f1: #start of geojson\n",
    "            tstring = \"{\\n\\\"type\\\": \\\"FeatureCollection\\\",\\n\\\"features\\\": [\"\n",
    "            print(tstring, file=f1)\n",
    "            f1.close()\n",
    "    else:\n",
    "        if position==0: #for printing to geojson - geometry, longitude, latitude\n",
    "            tstring = \"\\\"type\\\": \\\"Feature\\\",\\n\\\"geometry\\\": {\\n\\\"type\\\": \\\"Point\\\",\\n\\\"coordinates\\\": [\" + str(longitude) + \",\"+ str(latitude) + \"]\\n},\\n\\\"properties\\\": {\"\n",
    "            fname = fname \n",
    "            with open(fname, mode=pmode, encoding='utf-8') as f1:\n",
    "                print(tstring, file=f1)\n",
    "                f1.close()\n",
    "        elif position==1:  #start of point attributes\n",
    "            with open(fname, mode=pmode, encoding='utf-8') as f1:\n",
    "                print(\"{\", file=f1)\n",
    "                f1.close()  \n",
    "        elif position==2: #print attribute (not last)\n",
    "             with open(fname, mode=pmode, encoding='utf-8') as f1:\n",
    "                ttext = \"\\\"\" + str(tname) + \"\\\": \\\"\" +str(tvalue) + \"\\\",\"\n",
    "                print(ttext, file=f1) \n",
    "                f1.close() \n",
    "        elif position==3: #print last attribute\n",
    "            with open(fname, mode=pmode, encoding='utf-8') as f1:\n",
    "                ttext = \"\\\"\" + str(tname) + \"\\\": \\\"\" +str(tvalue) + \"\\\"\"\n",
    "                print(ttext, file=f1) \n",
    "                f1.close()        \n",
    "        elif position==4: #end of point attributes\n",
    "            with open(fname, mode=pmode, encoding='utf-8') as f1:  \n",
    "                if endloop==0:\n",
    "                    print(\"}\\n},\", file=f1)\n",
    "                    f1.close()\n",
    "                else:  #end of geojson\n",
    "                    print(\"}\\n}\\n]\\n}\", file=f1)\n",
    "                    f1.close()   \n",
    "        "
   ]
  },
  {
   "cell_type": "code",
   "execution_count": 3,
   "metadata": {},
   "outputs": [],
   "source": [
    "def probabilitydate(inputlist, probability, first): #calculate frost date with selected probability from list of frost dates of each year\n",
    "    listlong = len(inputlist)\n",
    "    if listlong == 1:\n",
    "        outputdate = 0\n",
    "        return outputdate\n",
    "    elif listlong == 0:\n",
    "        outputdate = 0\n",
    "        return outputdate\n",
    "    else:\n",
    "        orderlist = orderedlist(inputlist)\n",
    "        valuelist = daynumberlist(orderlist)\n",
    "        value = 0\n",
    "        if first==1:\n",
    "            value = int(gauss_value(valuelist, probability))\n",
    "        else: \n",
    "            probability=100-probability\n",
    "            value = int(gauss_value(valuelist, probability))\n",
    "        outputdate = orderlist[0] + timedelta(days=value)\n",
    "        return outputdate"
   ]
  },
  {
   "cell_type": "code",
   "execution_count": 4,
   "metadata": {},
   "outputs": [],
   "source": [
    "def same_year(daylong): #change date to same year (2030) for next calculation\n",
    "        sdaylong = str(daylong)\n",
    "        tday = int(sdaylong[8:10])\n",
    "        tmonth = int(sdaylong[5:7])\n",
    "        sameyear = date(2030, tmonth, tday)\n",
    "        return sameyear"
   ]
  },
  {
   "cell_type": "code",
   "execution_count": 5,
   "metadata": {},
   "outputs": [],
   "source": [
    "def gauss_value(inputlist, probability): #value of gaussian probability from values of input list\n",
    "    mean = np.mean(inputlist)\n",
    "    sigma = np.std(inputlist)\n",
    "    values = np.random.normal(mean,sigma,10000)\n",
    "    value = np.percentile(values,probability)\n",
    "    return value    "
   ]
  },
  {
   "cell_type": "code",
   "execution_count": 6,
   "metadata": {},
   "outputs": [],
   "source": [
    "def orderedlist(inputlist): #sort list by date\n",
    "    listlong = len(inputlist)\n",
    "    for j in range (0,listlong-1,1):\n",
    "        for i in range(j+1, listlong, 1):\n",
    "            firstday = inputlist[j]\n",
    "            secondday = inputlist[i]\n",
    "            sfirstday = str(firstday)\n",
    "            ssecondday = str(secondday)\n",
    "            fday = int(sfirstday[8:10])\n",
    "            fmonth = int(sfirstday[5:7])\n",
    "            sday = int(ssecondday[8:10])\n",
    "            smonth = int(ssecondday[5:7])\n",
    "            if fday<10:\n",
    "                firstval=str(fmonth)+\"0\"+str(fday)\n",
    "            else:\n",
    "                firstval=str(fmonth)+str(fday)\n",
    "            if sday<10:\n",
    "                secondval=str(smonth)+\"0\"+str(sday)\n",
    "            else:\n",
    "                secondval=str(smonth)+str(sday)\n",
    "            firstvalue = int(firstval)\n",
    "            secondvalue = int(secondval)\n",
    "            if secondvalue < firstvalue:\n",
    "                inputlist[j]=secondday\n",
    "                inputlist[i]=firstday       \n",
    "    return inputlist"
   ]
  },
  {
   "cell_type": "code",
   "execution_count": 7,
   "metadata": {},
   "outputs": [],
   "source": [
    "def daynumberlist(orderlist): #from list of ordered dates to list of number of days from first date in ordered list \n",
    "    listlong = len(orderlist)\n",
    "    outputlist=[]\n",
    "    outputlist.append(0)\n",
    "    for i in range(1, listlong, 1):\n",
    "        difference = orderlist[i] - orderlist[0]\n",
    "        outputlist.append(difference.days)\n",
    "    return outputlist    "
   ]
  },
  {
   "cell_type": "markdown",
   "metadata": {},
   "source": [
    "###  Find frost dates: function for one place one year"
   ]
  },
  {
   "cell_type": "code",
   "execution_count": 8,
   "metadata": {},
   "outputs": [],
   "source": [
    "from datetime import date, timedelta\n",
    "def findfrostdates(latitude,longitude,year,frostdegree,dayinrow,starthourday,endhourday,fnamefrostdates,im,firstlist, lastlist,nmbfrdayslist,frosthoursday):\n",
    "      \n",
    "    numbfrostdays=0 # for calculating number of frost days\n",
    "        \n",
    "    #determination of winter and summer:\n",
    "    wintermonth=1\n",
    "    summermonth=7\n",
    "    if latitude<0:\n",
    "        wintermonth=7\n",
    "        summermonth=1\n",
    "    \n",
    "    # Last spring frost date:\n",
    "    startmonth=wintermonth\n",
    "    endmonth=summermonth\n",
    "    lastfrostday=0\n",
    "    daysbefore=0\n",
    "    startdate=1\n",
    "    enddate=1\n",
    "    if endmonth == 1:\n",
    "        endmonth=12\n",
    "        enddate=31\n",
    "    sdate = date(year, startmonth, startdate)   # start date for searching last frost date\n",
    "    edate = date(year, endmonth, enddate)   # end date for searching last frost date\n",
    "    delta = edate - sdate       # as timedelta\n",
    "    for i in range(delta.days):\n",
    "        daylong = sdate + timedelta(days=i)\n",
    "        sdaylong = str(daylong)\n",
    "        tday = int(sdaylong[8:10])\n",
    "        tmonth = int(sdaylong[5:7])\n",
    "        tyear = int(sdaylong[0:4])\n",
    "        frosthours = 0\n",
    "        for hour in range(starthourday, endhourday+1, 1): # for specific hours (all day,only sunrise hours,..)\n",
    "            time=convert_time_reverse(datetime.datetime(tyear, tmonth, tday, hour, 0))\n",
    "            slice_dictionary={'lon':[longitude,],'lat':[latitude],'time':[int(time)]}\n",
    "            currenttemp=kelvin_to_celsius_vector(im.slice('tas',slice_dictionary))\n",
    "            if currenttemp <= frostdegree:\n",
    "                frosthours+=1\n",
    "        if frosthours>=frosthoursday:  # frostday?\n",
    "            numbfrostdays+=1\n",
    "            lastfrostday=daylong\n",
    "            if daysbefore>=dayinrow-1:\n",
    "                lastfrostday=daylong\n",
    "            daysbefore=+1\n",
    "        else:\n",
    "            daysbefore=0\n",
    "    \n",
    "    tvarname = \"LastD\"+ str(year)\n",
    "    print_geojson(tvarname, lastfrostday, fnamefrostdates, longitude, latitude, 0, 2, 0)\n",
    "    if lastfrostday!= 0:\n",
    "        tvalue = same_year(lastfrostday)\n",
    "        lastlist.append(tvalue)\n",
    "    \n",
    "    \n",
    "                     \n",
    "    # First autumn frost date:\n",
    "    startmonth=summermonth\n",
    "    endmonth=wintermonth\n",
    "    firstfrostday=0\n",
    "    daysbefore=0\n",
    "    cutfrost=0\n",
    "    enddate=1\n",
    "    startdate=1\n",
    "    if endmonth == 1:\n",
    "        endmonth=12\n",
    "        enddate=31\n",
    "        \n",
    "        \n",
    "    sdate = date(year, startmonth, startdate)   # start date of searching\n",
    "    edate = date(year, endmonth, enddate)   # end date of searching\n",
    "    delta = edate - sdate       # as timedelta\n",
    "    for i in range(delta.days+1):\n",
    "        daylong = sdate + timedelta(days=i)\n",
    "        sdaylong = str(daylong)\n",
    "        tday = int(sdaylong[8:10])\n",
    "        tmonth = int(sdaylong[5:7])\n",
    "        tyear = int(sdaylong[0:4])\n",
    "        frosthours = 0 \n",
    "        for hour in range(starthourday, endhourday+1, 1): # for specific hours (all day,only sunrise hours,..)\n",
    "            time=convert_time_reverse(datetime.datetime(tyear, tmonth, tday, hour, 0))\n",
    "            slice_dictionary={'lon':[longitude],'lat':[latitude],'time':[int(time)]}\n",
    "            currenttemp=kelvin_to_celsius_vector(im.slice('tas',slice_dictionary))\n",
    "            if currenttemp <= frostdegree:\n",
    "                frosthours+=1\n",
    "        if frosthours >= frosthoursday:  # frostday?\n",
    "            numbfrostdays+=1\n",
    "            if daysbefore>=(dayinrow-1) and cutfrost==0:\n",
    "                firstfrostday=daylong\n",
    "                cutfrost=1\n",
    "            daysbefore=+1\n",
    "        else:\n",
    "            daysbefore=0\n",
    "       \n",
    "    tvarname = \"FirstD\"+str(year)\n",
    "    print_geojson(tvarname, firstfrostday, fnamefrostdates, longitude, latitude, 0, 2, 0)\n",
    "    if firstfrostday!= 0:\n",
    "        tvalue = same_year(firstfrostday)\n",
    "        firstlist.append(tvalue)\n",
    "    # Frostfreeperiod\n",
    "    frostfreeperiod=0\n",
    "    if firstfrostday!=0 and lastfrostday!=0:\n",
    "        if latitude>0:\n",
    "            frostfreeperiod =  firstfrostday-lastfrostday\n",
    "            frostfreeperiod = frostfreeperiod.days\n",
    "        else:\n",
    "            firstyeardate = date(year, 1, 1)   # start date of year\n",
    "            lastyeardate = date(year, 12, 31)   # end date of year\n",
    "            frostfreeperiod =  (firstfrostday-firstyeardate)+(lastyeardate-lastfrostday)\n",
    "    tvarname = \"Period\"+ str(year)\n",
    "    print_geojson(tvarname, frostfreeperiod, fnamefrostdates, longitude, latitude, 0, 2, 0)\n",
    "    \n",
    "    tvarname = \"FrDays\"+ str(year) \n",
    "    print_geojson(tvarname, numbfrostdays, fnamefrostdates, longitude, latitude, 0, 2, 0)\n",
    "    nmbfrdayslist.append(numbfrostdays)\n",
    "    \n",
    "                  "
   ]
  },
  {
   "cell_type": "markdown",
   "metadata": {},
   "source": [
    "### Find frost dates: iteration by selected years"
   ]
  },
  {
   "cell_type": "code",
   "execution_count": 9,
   "metadata": {},
   "outputs": [],
   "source": [
    "def frostdatesyearly(latorder,lonorder,startyear,endyear,frostdegree,dayinrow,starthourday,endhourday,fnamefrostdates,endloop,datafolder,probability,frosthoursday):\n",
    "    print_geojson(\"\", \"\", fnamefrostdates, 0, 0, 0, 1,0)\n",
    "    firstlist = []\n",
    "    lastlist = []\n",
    "    nmbfrdayslist = []\n",
    "    \n",
    "    for year in range(startyear, endyear+1, 1):\n",
    "        source = datafolder + '/' + str(year) + '.nc' \n",
    "        im=Image(netCDF4.Dataset(source,'r'))   \n",
    "        longlist = im.get_data().variables['lon'][:]\n",
    "        latlist= im.get_data().variables['lat'][:]\n",
    "        longitude = longlist [lonorder]   \n",
    "        latitude = latlist[latorder]\n",
    "        if year == startyear:\n",
    "            print_geojson(\"\", \"\", fnamefrostdates, longitude, latitude, 0, 0,0)\n",
    "        findfrostdates(latitude,longitude,year,frostdegree,dayinrow,starthourday,endhourday,fnamefrostdates,im,firstlist,lastlist,nmbfrdayslist,frosthoursday)\n",
    "    \n",
    "    firstprobday = probabilitydate(firstlist, probability, 1)\n",
    "    lastprobday = probabilitydate(lastlist, probability, 0)\n",
    "    namefirstprob = \"FirstD\" + str(probability) \n",
    "    namelastprob = \"LastD\" + str(probability) \n",
    "    print_geojson(namelastprob, lastprobday, fnamefrostdates, 0, 0, 0, 2, 0)\n",
    "    print_geojson(namefirstprob, firstprobday, fnamefrostdates, 0, 0, 0, 2, 0)\n",
    "    \n",
    "    nameperiodprob = \"Period\" + str(probability) \n",
    "    frostfreeperiod=0\n",
    "    if firstprobday!=0 and lastprobday!=0:\n",
    "        if latitude>0:\n",
    "            frostfreeperiod =  firstprobday-lastprobday\n",
    "            frostfreeperiod = frostfreeperiod.days\n",
    "        else:\n",
    "            firstyeardate = date(2030, 1, 1)   # start date of year\n",
    "            lastyeardate = date(2030, 12, 31)   # end date of year\n",
    "            frostfreeperiod =  (firstprobday-firstyeardate)+(lastyeardate-lastprobday) \n",
    "    \n",
    "    print_geojson(nameperiodprob, frostfreeperiod, fnamefrostdates, 0, 0, 0, 2, 0)\n",
    "    tmeannmb = np.mean(nmbfrdayslist)\n",
    "    meannmb = int(np.round(tmeannmb, decimals=0, out=None))\n",
    "    print_geojson(\"AvgFrDays\", meannmb, fnamefrostdates, 0, 0, 0, 3, 0)\n",
    "    print_geojson(\"\", \"\", fnamefrostdates, 0, 0, 0, 4,endloop)\n",
    "          "
   ]
  },
  {
   "cell_type": "markdown",
   "metadata": {},
   "source": [
    "### Find frost dates: iteration by selected latitudes, longitudes"
   ]
  },
  {
   "cell_type": "code",
   "execution_count": 10,
   "metadata": {},
   "outputs": [],
   "source": [
    "def frostdatesplaces(startlat, startlon, endlat, endlon, startyear,endyear,frostdegree,dayinrow,starthourday,endhourday,exportfolder,datafolder,fnamefrostdates1,probability,frosthoursday,alllatlonfile):\n",
    "        fnamefrostdates = exportfolder + \"/\" +fnamefrostdates1\n",
    "        print_geojson(\"\", \"\", fnamefrostdates, 0, 0, 1, 0,0)\n",
    "        endloop=0\n",
    "        \n",
    "        if alllatlonfile==1:  # if it is calculated for all latitudes and longitudes in input file\n",
    "            source = datafolder + '/' + str(startyear) + '.nc' \n",
    "            im=Image(netCDF4.Dataset(source,'r')) \n",
    "            arraylon = im.get_data().variables['lon'][0::]\n",
    "            arraylat = im.get_data().variables['lat'][0::]\n",
    "            startlat=0\n",
    "            startlon=0\n",
    "            endlon= len(arraylon)-1\n",
    "            endlat= len(arraylat)-1\n",
    "             \n",
    "        \n",
    "        for latorder in range(startlat, endlat+1, 1):\n",
    "            for lonorder in range(startlon, endlon+1, 1):\n",
    "                if latorder==endlat and lonorder==endlon:\n",
    "                    endloop=1\n",
    "                frostdatesyearly(latorder,lonorder,startyear,endyear,frostdegree,dayinrow,starthourday,endhourday,fnamefrostdates,endloop,datafolder,probability,frosthoursday)\n",
    "        \n",
    "       \n",
    "        "
   ]
  },
  {
   "cell_type": "markdown",
   "metadata": {},
   "source": [
    "## <font color=red>Find frost dates: input parameters and launch</font> "
   ]
  },
  {
   "cell_type": "code",
   "execution_count": 13,
   "metadata": {},
   "outputs": [],
   "source": [
    "#Frost date definition:\n",
    "frostdegree=0 # destructive minimum temperature for the plant # we can find last/first day with 0/-1/-2/.... degrees of Celsius # integer or double\n",
    "dayinrow=1 #how many days in a row we consider as a frost date, how many repetitions are destructive to a plant #we can find last/first frost date or for example last/first two frost days of each year # integer\n",
    "frosthoursday=1 #the number of frost hours per day from which the day is considered as the frost day #some plants may not be damaged by only one frost hour a day, but more frost hours may damaged them\n",
    "\n",
    "#Time and probability definition:\n",
    "startyear=1982 #start year (integer) \n",
    "endyear=2019 #end year (integer)  \n",
    "probability=50 # probability (percent) of frost date (integer 10-90)\n",
    "\n",
    "#Optimalization:\n",
    "starthourday=0 # integer 0-23, we can select only sunrise hours\n",
    "endhourday=23 # integer 0-23, we can select only sunrise hours\n",
    "\n",
    "#Files/Folders name:\n",
    "datafolder = \"data\" #folder with data files (named by year) for each year #string\n",
    "fnamefrostdates=\"frostdates\" #name of created files #string\n",
    "exportfolder = \"export\" #for all files (if each file its folder -> insert name of folder to name of file) #export folder must be created #string\n",
    "\n",
    "#Area definition:\n",
    "alllatlonfile=0 #calculate all latitudes and longitudes in input file (1=yes, 0=no)\n",
    "# if alllatlonfile!=0 then:\n",
    "startlat=0 # start number of list of latitudes from used netCDF4 file \n",
    "startlon=0 # start number of list of longitudes from used netCDF4 file \n",
    "endlat=1 # end number of list of latitudes from used netCDF4 file \n",
    "endlon=1 # end number of list of longitudes from used netCDF4 file \n",
    " \n",
    "\n",
    "    \n",
    "frostdatesplaces(startlat, startlon, endlat, endlon, startyear,endyear,frostdegree,dayinrow,starthourday,endhourday,exportfolder,datafolder,fnamefrostdates,probability,frosthoursday,alllatlonfile)\n",
    "\n",
    "\n",
    "\n",
    "\n"
   ]
  },
  {
   "cell_type": "markdown",
   "metadata": {},
   "source": [
    "<font color=red> Output: in export folder is created geojson with points - each point has got attributes: first/last frost date, frost-free period with corresponding probability, frost dates, period for each year and also number of frost days in each year or averange of number of frost days </font> "
   ]
  },
  {
   "cell_type": "markdown",
   "metadata": {},
   "source": [
    "## From geojson to shp"
   ]
  },
  {
   "cell_type": "code",
   "execution_count": 31,
   "metadata": {},
   "outputs": [
    {
     "data": {
      "text/plain": [
       "<subprocess.Popen at 0x7fea56122748>"
      ]
     },
     "execution_count": 31,
     "metadata": {},
     "output_type": "execute_result"
    }
   ],
   "source": [
    "args = ['ogr2ogr', '-f', 'ESRI Shapefile', 'export/frostdates.shp', 'export/frostdates.geojson']\n",
    "subprocess.Popen(args)"
   ]
  }
 ],
 "metadata": {
  "kernelspec": {
   "display_name": "Python 3",
   "language": "python",
   "name": "python3"
  },
  "language_info": {
   "codemirror_mode": {
    "name": "ipython",
    "version": 3
   },
   "file_extension": ".py",
   "mimetype": "text/x-python",
   "name": "python",
   "nbconvert_exporter": "python",
   "pygments_lexer": "ipython3",
   "version": "3.7.3"
  }
 },
 "nbformat": 4,
 "nbformat_minor": 4
}
