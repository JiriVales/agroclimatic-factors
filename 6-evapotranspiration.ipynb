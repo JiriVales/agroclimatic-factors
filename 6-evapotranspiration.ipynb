{
 "cells": [
  {
   "cell_type": "markdown",
   "metadata": {},
   "source": [
    "### import libraries"
   ]
  },
  {
   "cell_type": "code",
   "execution_count": 43,
   "metadata": {},
   "outputs": [
    {
     "name": "stdout",
     "output_type": "stream",
     "text": [
      "Requirement already satisfied: netCDF4 in /opt/conda/lib/python3.7/site-packages (1.5.3)\n",
      "Requirement already satisfied: numpy>=1.7 in /opt/conda/lib/python3.7/site-packages (from netCDF4) (1.17.3)\n",
      "Requirement already satisfied: cftime in /opt/conda/lib/python3.7/site-packages (from netCDF4) (1.0.4.2)\n"
     ]
    }
   ],
   "source": [
    "! pip install netCDF4"
   ]
  },
  {
   "cell_type": "code",
   "execution_count": 1,
   "metadata": {},
   "outputs": [],
   "source": [
    "import netCDF4 # python API to work with netcdf (.nc) files\n",
    "import os\n",
    "import datetime\n",
    "from osgeo import gdal, ogr, osr\n",
    "import numpy as np # library to work with matrixes and computations in general\n",
    "import matplotlib.pyplot as plt # plotting library\n",
    "from auxiliary_classes import convert_time,convert_time_reverse,kelvin_to_celsius,kelvin_to_celsius_vector,Grid,Image,subImage\n",
    "import json\n",
    "import geojson, gdal, subprocess"
   ]
  },
  {
   "cell_type": "markdown",
   "metadata": {},
   "source": [
    "### auxiliary functions"
   ]
  },
  {
   "cell_type": "code",
   "execution_count": 2,
   "metadata": {},
   "outputs": [],
   "source": [
    "def print_geojson(tname, tvalue, fname, longitude, latitude, startdoc, position,endloop): #for printing to geojson - start,end,attributes\n",
    "    fname = fname +\".geojson\"\n",
    "    pmode=\"a\"\n",
    "    if startdoc==1:\n",
    "        with open(fname, mode=\"w\", encoding='utf-8') as f1: #start of geojson\n",
    "            tstring = \"{\\n\\\"type\\\": \\\"FeatureCollection\\\",\\n\\\"features\\\": [\"\n",
    "            print(tstring, file=f1)\n",
    "            f1.close()\n",
    "    else:\n",
    "        if position==0: #for printing to geojson - geometry, longitude, latitude\n",
    "            tstring = \"\\\"type\\\": \\\"Feature\\\",\\n\\\"geometry\\\": {\\n\\\"type\\\": \\\"Point\\\",\\n\\\"coordinates\\\": [\" + str(longitude) + \",\"+ str(latitude) + \"]\\n},\\n\\\"properties\\\": {\"\n",
    "            fname = fname \n",
    "            with open(fname, mode=pmode, encoding='utf-8') as f1:\n",
    "                print(tstring, file=f1)\n",
    "                f1.close()\n",
    "        elif position==1:  #start of point attributes\n",
    "            with open(fname, mode=pmode, encoding='utf-8') as f1:\n",
    "                print(\"{\", file=f1)\n",
    "                f1.close()  \n",
    "        elif position==2: #print attribute (not last)\n",
    "             with open(fname, mode=pmode, encoding='utf-8') as f1:\n",
    "                ttext = \"\\\"\" + str(tname) + \"\\\": \\\"\" +str(tvalue) + \"\\\",\"\n",
    "                print(ttext, file=f1) \n",
    "                f1.close() \n",
    "        elif position==3: #print last attribute\n",
    "            with open(fname, mode=pmode, encoding='utf-8') as f1:\n",
    "                ttext = \"\\\"\" + str(tname) + \"\\\": \\\"\" +str(tvalue) + \"\\\"\"\n",
    "                print(ttext, file=f1) \n",
    "                f1.close()        \n",
    "        elif position==4: #end of point attributes\n",
    "            with open(fname, mode=pmode, encoding='utf-8') as f1:  \n",
    "                if endloop==0:\n",
    "                    print(\"}\\n},\", file=f1)\n",
    "                    f1.close()\n",
    "                else:  #end of geojson\n",
    "                    print(\"}\\n}\\n]\\n}\", file=f1)\n",
    "                    f1.close()  "
   ]
  },
  {
   "cell_type": "code",
   "execution_count": 3,
   "metadata": {},
   "outputs": [],
   "source": [
    "def trend(inputlist, nametrend, namediff, fname): \n",
    "    listlong = len(inputlist)\n",
    "    if listlong <= 1:\n",
    "        trendcoef = 0\n",
    "        timediff = 0\n",
    "        \n",
    "    else:\n",
    "        x = np.arange(0,len(inputlist))\n",
    "        y = inputlist\n",
    "        z = np.polyfit(x,y,1)\n",
    "        trendcoef=z[0]\n",
    "        timediff=int(trendcoef*(listlong-1))\n",
    "    print_geojson(nametrend, trendcoef, fname, 0, 0, 0, 2, 0)\n",
    "    print_geojson(namediff, timediff, fname, 0, 0, 0, 3, 0)\n",
    "    \n",
    "    \n",
    "    "
   ]
  },
  {
   "cell_type": "code",
   "execution_count": 4,
   "metadata": {},
   "outputs": [],
   "source": [
    "def trend2(inputlist, nametrend, namediff, endyear, startyear, fname,fnameavg):\n",
    "    listlong = endyear-startyear+1\n",
    "    numberweeks = len(inputlist[0])\n",
    "    for j in range(0, numberweeks,1):\n",
    "        tempweek = j +1\n",
    "        if listlong <= 1:\n",
    "            trendcoef = 0\n",
    "            timediff = 0\n",
    "            \n",
    "        else:\n",
    "            x = np.arange(0,listlong)\n",
    "            y = []\n",
    "            for i in range(0, listlong, 1): \n",
    "                y.append( inputlist[i][j])\n",
    "            z = np.polyfit(x,y,1)\n",
    "            trendcoef=z[0]\n",
    "            timediff=int(trendcoef*(listlong-1))\n",
    "        nametrend2 = nametrend + str(tempweek)\n",
    "        namediff2 = namediff + str(tempweek)\n",
    "        print_geojson(nametrend2, trendcoef, fname, 0, 0, 0, 2, 0)\n",
    "        print_geojson(nametrend2, trendcoef, fnameavg, 0, 0, 0, 2, 0)\n",
    "        if j == (numberweeks-1):\n",
    "            print_geojson(namediff2, timediff, fname, 0, 0, 0, 3, 0)\n",
    "            print_geojson(namediff2, timediff, fnameavg, 0, 0, 0, 3, 0)\n",
    "        else:\n",
    "            print_geojson(namediff2, timediff, fname, 0, 0, 0, 2, 0)\n",
    "            print_geojson(namediff2, timediff, fnameavg, 0, 0, 0, 2, 0)\n",
    "            \n",
    "    \n",
    "    "
   ]
  },
  {
   "cell_type": "code",
   "execution_count": 5,
   "metadata": {},
   "outputs": [],
   "source": [
    "def avg2Dlist(inputlist,startyear,endyear): #average for 2D list ->1D list # inputs: inputlist = 2D list, output: avglist = 1D list with avg values\n",
    "    numberyear = endyear-startyear+1\n",
    "    listlen = len(inputlist[0])\n",
    "    templist = []  \n",
    "    avglist = []  \n",
    "    for i in range(0, listlen,1):\n",
    "        for j in range(0, numberyear,1):\n",
    "            templist.append(inputlist[j][i])\n",
    "        tempvalue=sum(templist)/len(templist)\n",
    "        avglist.append(tempvalue) \n",
    "        templist = [] \n",
    "    return avglist\n",
    "            "
   ]
  },
  {
   "cell_type": "code",
   "execution_count": 6,
   "metadata": {},
   "outputs": [],
   "source": [
    "def acumulatelist(inputlist): #average for 2D list ->1D list # inputs: inputlist = 2D list, output: avglist = 1D list with avg values\n",
    "    listlen = len(inputlist)\n",
    "    for i in range (0,listlen-1,1):\n",
    "        inputlist[i+1] += inputlist[i]\n",
    "    return inputlist"
   ]
  },
  {
   "cell_type": "code",
   "execution_count": 7,
   "metadata": {},
   "outputs": [],
   "source": [
    "def printlistasweekgeojson(inputlist,name,fname,fnameavg,endloop): # from list of week values print geojson\n",
    "    listlen = len(inputlist)\n",
    "    for i in range(0, listlen,1):\n",
    "        tempvalue=inputlist[i]\n",
    "        tvarname = name + str(i+1)\n",
    "        if endloop==1 and i == (listlen-1):\n",
    "            print_geojson(tvarname, tempvalue, fname, 0, 0, 0, 3, 0)\n",
    "            print_geojson(tvarname, tempvalue, fnameavg, 0, 0, 0, 2, 0)\n",
    "        else:\n",
    "            print_geojson(tvarname, tempvalue, fname, 0, 0, 0, 2, 0)\n",
    "            print_geojson(tvarname, tempvalue, fnameavg, 0, 0, 0, 2, 0)\n",
    "        \n",
    "    "
   ]
  },
  {
   "cell_type": "markdown",
   "metadata": {},
   "source": [
    "###    evapotranspiration: function for one place"
   ]
  },
  {
   "cell_type": "code",
   "execution_count": 8,
   "metadata": {},
   "outputs": [],
   "source": [
    "from datetime import date, timedelta\n",
    "def findevapotranspiration(latitude,longitude,year,endyear,im,enddate, startdate, fnameevapot, allweekevapotlist,evapotranspirationparam, fnameannualprec, yearevapotlist, unitcoeff,fnameevapotaccum,fnamemevapotaccum, fnamemevapot,allmonthevapotlist):\n",
    "    \n",
    "    \n",
    "    sdate = startdate   # start date for searching last frost date\n",
    "    edate = enddate   # end date for searching last frost date\n",
    "    delta = edate - sdate       # as timedelta\n",
    "    sevendays=0 # for determination of new week (1-7)\n",
    "    currentweek=1 # for determination of weeks\n",
    "    weekevapotlist = []\n",
    "    weekevapotranspiration=0\n",
    "    weekevapotlist = []\n",
    "    monthevapotlist =[]\n",
    "    starthourday = 0\n",
    "    endhourday = 23\n",
    "    weekevapotsum = 0\n",
    "    yearevapotsum = 0\n",
    "    monthevapotsum = 0\n",
    "    sdaylong = str(sdate)\n",
    "    tmonth = int(sdaylong[5:7])\n",
    "    currentmonth = tmonth\n",
    "    \n",
    "    for i in range(delta.days+1):\n",
    "        daylong = sdate + timedelta(days=i)\n",
    "        sdaylong = str(daylong)\n",
    "        tday = int(sdaylong[8:10])\n",
    "        tmonth = int(sdaylong[5:7])\n",
    "        tyear = int(sdaylong[0:4])\n",
    "        dayevapotsum = 0 # start value\n",
    "        sevendays+=1\n",
    "        for hour in range(starthourday, endhourday+1, 1): # for specific hours (all day,only sunrise hours,..)\n",
    "            time=convert_time_reverse(datetime.datetime(tyear, tmonth, tday, hour, 0)) \n",
    "            slice_dictionary={'lon':[longitude,],'lat':[latitude],'time':[int(time)]}\n",
    "            currentevapot=float(im.slice(evapotranspirationparam,slice_dictionary))*unitcoeff \n",
    "            dayevapotsum += currentevapot\n",
    "            yearevapotsum += currentevapot\n",
    "                    \n",
    "        if daylong == edate: # save month date for last date in season\n",
    "            monthevapotsum+=dayevapotsum\n",
    "            monthevapotlist.append(monthevapotsum)\n",
    "            tvarname = \"M\" + str(year) + \"_\" + str(tmonth)\n",
    "            print_geojson(tvarname, monthevapotsum, fnamemevapot, 0, 0, 0, 2, 0)\n",
    "            tvarname = \"M\" + str(year) + \"_\" + str(tmonth)\n",
    "            print_geojson(tvarname, yearevapotsum, fnamemevapotaccum, 0, 0, 0, 2, 0)\n",
    "        \n",
    "        \n",
    "        elif tmonth == currentmonth:\n",
    "            monthevapotsum+=dayevapotsum\n",
    "        \n",
    "        else:\n",
    "            monthevapotlist.append(monthevapotsum)\n",
    "            tvarname = \"M\" + str(year) + \"_\" + str(tmonth)\n",
    "            print_geojson(tvarname, monthevapotsum, fnamemevapot, 0, 0, 0, 2, 0)\n",
    "            tvarname = \"M\" + str(year) + \"_\" + str(tmonth)\n",
    "            print_geojson(tvarname, yearevapotsum, fnamemevapotaccum, 0, 0, 0, 2, 0)\n",
    "            monthevapotsum=dayevapotsum\n",
    "            currentmonth=tmonth\n",
    "            \n",
    "                \n",
    "        if daylong == edate: # save week date for last date in season\n",
    "            \n",
    "            weekevapotsum+=dayevapotsum\n",
    "            weekevapotlist.append(weekevapotsum)\n",
    "            tvarname = \"W\" + str(year) + \"_\" + str(currentweek)\n",
    "            print_geojson(tvarname, weekevapotsum, fnameevapot, 0, 0, 0, 2, 0)\n",
    "            tvarname = \"W\" + str(year) + \"_\" + str(currentweek)\n",
    "            print_geojson(tvarname, yearevapotsum, fnameevapotaccum, 0, 0, 0, 2, 0)\n",
    "            \n",
    "        elif sevendays<=7:  # new week?   \n",
    "            weekevapotsum+=dayevapotsum\n",
    "            \n",
    "        else:\n",
    "            weekevapotlist.append(weekevapotsum)\n",
    "            tvarname = \"W\" + str(year) + \"_\" + str(currentweek)\n",
    "            print_geojson(tvarname, weekevapotsum, fnameevapot, 0, 0, 0, 2, 0)\n",
    "            tvarname = \"W\" + str(year) + \"_\" + str(currentweek)\n",
    "            print_geojson(tvarname, yearevapotsum, fnameevapotaccum, 0, 0, 0, 2, 0)\n",
    "            weekevapotsum=dayevapotsum\n",
    "            sevendays=0\n",
    "            currentweek+=1\n",
    "        \n",
    "                    \n",
    "          \n",
    "    allweekevapotlist.append(weekevapotlist)\n",
    "    allmonthevapotlist.append(monthevapotlist)\n",
    "    yearevapotlist.append(yearevapotsum)\n",
    "    tvarname = \"Pr\" + str(year) \n",
    "    print_geojson(tvarname, yearevapotsum, fnameannualprec, 0, 0, 0, 2, 0)\n",
    "   \n",
    "       \n",
    "    \n",
    "    \n",
    "    \n",
    "    \n",
    "                  "
   ]
  },
  {
   "cell_type": "markdown",
   "metadata": {},
   "source": [
    "### Find  evapotranspiration: function for selected years"
   ]
  },
  {
   "cell_type": "code",
   "execution_count": 9,
   "metadata": {},
   "outputs": [],
   "source": [
    "def evapotranspirationyearly(latorder,lonorder,startyear,endyear,endloop,datafolder,fnameevapot,enddatem, startdatem,enddated, startdated,evapotranspirationparam, fnameannualprec, unitcoeff,fnameevapotaccum,fnameavgevapotranspiration,fnamemevapotaccum, fnamemevapot,fnameavgmevapotranspiration):\n",
    "    print_geojson(\"\", \"\", fnameevapot, 0, 0, 0, 1,0)\n",
    "    print_geojson(\"\", \"\", fnameevapotaccum, 0, 0, 0, 1,0)\n",
    "    print_geojson(\"\", \"\", fnameannualprec, 0, 0, 0, 1,0)\n",
    "    print_geojson(\"\", \"\", fnameavgevapotranspiration, 0, 0, 0, 1,0)\n",
    "    print_geojson(\"\", \"\", fnamemevapot, 0, 0, 0, 1,0)\n",
    "    print_geojson(\"\", \"\", fnamemevapotaccum, 0, 0, 0, 1,0)\n",
    "    print_geojson(\"\", \"\", fnameavgmevapotranspiration, 0, 0, 0, 1,0)\n",
    "    endloopyear =0\n",
    "   \n",
    "    \n",
    "    \n",
    "    \n",
    "    allweekevapotlist=[] # 2D list for all weeks many years\n",
    "    allmonthevapotlist=[] # 2D list for all months many years\n",
    "    yearevapotlist=[] # 2D list for all weeks many years\n",
    "    for year in range(startyear, endyear+1, 1):\n",
    "        source = datafolder + '/' + str(year) + '.nc' \n",
    "        im=Image(netCDF4.Dataset(source,'r'))   \n",
    "        longlist = im.get_data().variables['lon'][:]\n",
    "        latlist= im.get_data().variables['lat'][:]\n",
    "        longitude = longlist [lonorder]   \n",
    "        latitude = latlist[latorder]\n",
    "        if year == startyear:\n",
    "            print_geojson(\"\", \"\", fnameevapot, longitude, latitude, 0, 0,0)\n",
    "            print_geojson(\"\", \"\", fnameannualprec, longitude, latitude, 0, 0,0)\n",
    "            print_geojson(\"\", \"\", fnameevapotaccum, longitude, latitude, 0, 0,0)\n",
    "            print_geojson(\"\", \"\", fnameavgevapotranspiration, longitude, latitude, 0, 0,0)\n",
    "            print_geojson(\"\", \"\", fnamemevapot, longitude, latitude, 0, 0,0)\n",
    "            print_geojson(\"\", \"\", fnamemevapotaccum, longitude, latitude, 0, 0,0)\n",
    "            print_geojson(\"\", \"\", fnameavgmevapotranspiration, longitude, latitude, 0, 0,0)\n",
    "        if year == endyear:\n",
    "            endloopyear=1\n",
    "            \n",
    "            \n",
    "        \n",
    "        enddate=date(year, enddatem, enddated) \n",
    "        startdate=date(year, startdatem, startdated) \n",
    "                  \n",
    "        \n",
    "        \n",
    "        \n",
    "                 \n",
    "            \n",
    "        findevapotranspiration(latitude,longitude,year,endyear,im,enddate, startdate, fnameevapot, allweekevapotlist,evapotranspirationparam, fnameannualprec, yearevapotlist, unitcoeff,fnameevapotaccum,fnamemevapotaccum, fnamemevapot,allmonthevapotlist)\n",
    "    \n",
    "    \n",
    "     \n",
    "    \n",
    "    \n",
    "    avgweekevapotlist = avg2Dlist(allweekevapotlist,startyear,endyear)\n",
    "    avgmonthevapotlist = avg2Dlist(allmonthevapotlist,startyear,endyear)\n",
    "    printlistasweekgeojson(avgweekevapotlist,\"PrW\",fnameevapot,fnameavgevapotranspiration, 0)\n",
    "    printlistasweekgeojson(avgmonthevapotlist,\"PrM\",fnamemevapot,fnameavgmevapotranspiration, 0)\n",
    "    \n",
    "    avgweekacuevapotlist = acumulatelist(avgweekevapotlist)\n",
    "    avgmonthacuevapotlist = acumulatelist(avgmonthevapotlist)\n",
    "    \n",
    "    printlistasweekgeojson(avgweekacuevapotlist,\"APrW\",fnameevapotaccum,fnameavgevapotranspiration, endloopyear)\n",
    "    printlistasweekgeojson(avgmonthacuevapotlist,\"APrM\",fnamemevapotaccum,fnameavgmevapotranspiration, endloopyear)\n",
    "    \n",
    "    \n",
    "    avgevapotyear=sum(yearevapotlist)/len(yearevapotlist)\n",
    "    print_geojson(\"AvgPre\", avgevapotyear, fnameannualprec, 0, 0, 0, 2, 0)\n",
    "    \n",
    "    nametrend = \"AnTrCo\"\n",
    "    namediff = \"Andiff\"\n",
    "    trend(yearevapotlist, nametrend, namediff,fnameannualprec)\n",
    "    \n",
    "    nametrend = \"TrCo\"\n",
    "    namediff = \"Diff\"\n",
    "    trend2(allweekevapotlist, nametrend, namediff, endyear, startyear, fnameevapot,fnameavgevapotranspiration)\n",
    "    trend2(allmonthevapotlist, nametrend, namediff, endyear, startyear, fnamemevapot,fnameavgmevapotranspiration)\n",
    "   \n",
    "    print_geojson(\"\", \"\", fnameevapot, 0, 0, 0, 4,endloop)    \n",
    "    print_geojson(\"\", \"\", fnameannualprec, 0, 0, 0, 4,endloop)    \n",
    "    print_geojson(\"\", \"\", fnameevapotaccum, 0, 0, 0, 4,endloop)\n",
    "    print_geojson(\"\", \"\", fnameavgevapotranspiration, 0, 0, 0, 4,endloop)\n",
    "    print_geojson(\"\", \"\", fnamemevapot, 0, 0, 0, 4,endloop)    \n",
    "    print_geojson(\"\", \"\", fnamemevapotaccum, 0, 0, 0, 4,endloop)\n",
    "    print_geojson(\"\", \"\", fnameavgmevapotranspiration, 0, 0, 0, 4,endloop)\n",
    "          "
   ]
  },
  {
   "cell_type": "markdown",
   "metadata": {},
   "source": [
    "### Find  evapotranspiration: function for selected latitudes, longitudes"
   ]
  },
  {
   "cell_type": "code",
   "execution_count": 10,
   "metadata": {},
   "outputs": [],
   "source": [
    "def evapotranspirationplaces(startlat, startlon, endlat, endlon, startyear,endyear,exportfolder,datafolder,fnameevapot1,enddatem, startdatem,enddated, startdated, alllatlonfile, evapotranspirationparam, fnameannualprec1, unitcoeff,fnameevapotaccum1,fnameavgevapotranspiration1,fnamemevapotaccum1, fnamemevapot1,fnameavgmevapotranspiration1):\n",
    "        fnameevapot= exportfolder + \"/\" +fnameevapot1\n",
    "        fnameevapotaccum= exportfolder + \"/\" +fnameevapotaccum1\n",
    "        fnameannualprec= exportfolder + \"/\" +fnameannualprec1\n",
    "        fnameavgevapotranspiration= exportfolder + \"/\" +fnameavgevapotranspiration1\n",
    "        fnamemevapot= exportfolder + \"/\" +fnamemevapot1\n",
    "        fnamemevapotaccum= exportfolder + \"/\" +fnamemevapotaccum1\n",
    "        fnameavgmevapotranspiration= exportfolder + \"/\" +fnameavgmevapotranspiration1\n",
    "        \n",
    "         #start in geojson files:\n",
    "        print_geojson(\"\", \"\", fnameevapot, 0, 0, 1, 0,0)\n",
    "        print_geojson(\"\", \"\", fnameevapotaccum, 0, 0, 1, 0,0)\n",
    "        print_geojson(\"\", \"\", fnameannualprec, 0, 0, 1, 0,0)\n",
    "        print_geojson(\"\", \"\", fnameavgevapotranspiration, 0, 0, 1, 0,0)\n",
    "        print_geojson(\"\", \"\", fnamemevapot, 0, 0, 1, 0,0)\n",
    "        print_geojson(\"\", \"\", fnamemevapotaccum, 0, 0, 1, 0,0)\n",
    "        print_geojson(\"\", \"\", fnameavgmevapotranspiration, 0, 0, 1, 0,0)\n",
    "        \n",
    "                \n",
    "        endloop=0\n",
    "        \n",
    "        if alllatlonfile==1:  # if it is calculated for all latitudes and longitudes in input file\n",
    "            source = datafolder + '/' + str(startyear) + '.nc' \n",
    "            im=Image(netCDF4.Dataset(source,'r')) \n",
    "            arraylon = im.get_data().variables['lon'][0::]\n",
    "            arraylat = im.get_data().variables['lat'][0::]\n",
    "            startlat=0\n",
    "            startlon=0\n",
    "            endlon= len(arraylon)-1\n",
    "            endlat= len(arraylat)-1\n",
    "        \n",
    "        for latorder in range(startlat, endlat+1, 1):\n",
    "            for lonorder in range(startlon, endlon+1, 1):\n",
    "                if latorder==endlat and lonorder==endlon:\n",
    "                    endloop=1\n",
    "                evapotranspirationyearly(latorder,lonorder,startyear,endyear,endloop,datafolder,fnameevapot,enddatem, startdatem,enddated, startdated,evapotranspirationparam, fnameannualprec, unitcoeff,fnameevapotaccum,fnameavgevapotranspiration,fnamemevapotaccum, fnamemevapot,fnameavgmevapotranspiration)\n",
    "       \n",
    "       \n",
    "        "
   ]
  },
  {
   "cell_type": "markdown",
   "metadata": {},
   "source": [
    "## <font color=red>Find   evapotranspiration: input parameters and launch</font> "
   ]
  },
  {
   "cell_type": "code",
   "execution_count": null,
   "metadata": {},
   "outputs": [],
   "source": [
    "#Time definition:\n",
    "startyear=2010 #start year (integer) \n",
    "endyear=2019 #end year (integer)  \n",
    "enddatem = 12 # start date (month) each year\n",
    "enddated = 31  # start date (day) each year\n",
    "startdatem = 1 # end date (month) each year\n",
    "startdated = 1 # end date (day) each year\n",
    "\n",
    "#Optimalization:\n",
    "starthourday=0 # integer 0-23\n",
    "endhourday=23 # integer 0-23\n",
    "\n",
    "#  unit:\n",
    "units = 3  # 1 = m (default), 2 = cm, 3 = mm\n",
    "\n",
    "#Files/Folders name:\n",
    "datafolder = \"data\" #folder with data files (named by year) for each year #string\n",
    "fnameevapot =\"weekly_evapotranspiration\" #name of created files with week evapotranspiration #string\n",
    "fnameevapotaccum =\"weekly_accum_evapotranspiration\" #name of created files with week evapotranspiration #string\n",
    "fnamemevapot =\"monthly_evapotranspiration\" #name of created files with month evapotranspiration #string\n",
    "fnamemevapotaccum =\"monthly_accum_evapotranspiration\" #name of created files with month evapotranspiration #string\n",
    "fnameavgevapotranspiration =\"weekly_avg_evapotranspiration\" #name of created files with week evapotranspiration #string\n",
    "fnameavgmevapotranspiration =\"monthly_avg_evapotranspiration\" #name of created files with month evapotranspiration #string\n",
    "fnameannualprec =\"annualsum_evapotranspiration\" #name of created files with annual/seasonal/defined period evapotranspiration #string\n",
    "exportfolder = \"export-evapo\" #for all files (if each file its folder -> insert name of folder to name of file) #export folder must be created #string\n",
    "\n",
    "#Area definition:\n",
    "alllatlonfile=0 #calculate all latitudes and longitudes in input file (1=yes, 0=no)\n",
    "# if alllatlonfile!=0 then:\n",
    "startlat=4 # start number of list of latitudes from used netCDF4 file \n",
    "startlon=4 # start number of list of longitudes from used netCDF4 file \n",
    "endlat=17 # end number of list of latitudes from used netCDF4 file \n",
    "endlon=19 # end number of list of longitudes from used netCDF4 file \n",
    "\n",
    "#  evapotranspiration data parameter:\n",
    "evapotranspirationparam = 'eow_lwe'\n",
    "\n",
    "#  units coefficients \n",
    "unitcoeff = 1000\n",
    "if units == 2:\n",
    "    unitcoeff = 100000\n",
    "elif units == 3: \n",
    "    unitcoeff = 1000000\n",
    "\n",
    "\n",
    "\n",
    "\n",
    "evapotranspirationplaces(startlat, startlon, endlat, endlon, startyear,endyear,exportfolder,datafolder,fnameevapot,enddatem, startdatem,enddated, startdated,alllatlonfile,evapotranspirationparam, fnameannualprec, unitcoeff, fnameevapotaccum,fnameavgevapotranspiration,fnamemevapotaccum, fnamemevapot,fnameavgmevapotranspiration)\n",
    "\n",
    "\n",
    "\n",
    "\n"
   ]
  },
  {
   "cell_type": "markdown",
   "metadata": {},
   "source": [
    "## From geojson to shp"
   ]
  },
  {
   "cell_type": "code",
   "execution_count": 25,
   "metadata": {},
   "outputs": [
    {
     "data": {
      "text/plain": [
       "<subprocess.Popen at 0x7fa6ba265d30>"
      ]
     },
     "execution_count": 25,
     "metadata": {},
     "output_type": "execute_result"
    }
   ],
   "source": [
    "args = ['ogr2ogr', '-f', 'ESRI Shapefile', 'export/shp/weekly_evapotranspiration.shp', 'export/weekly_evapotranspiration.geojson']\n",
    "subprocess.Popen(args)"
   ]
  },
  {
   "cell_type": "code",
   "execution_count": 26,
   "metadata": {},
   "outputs": [
    {
     "data": {
      "text/plain": [
       "<subprocess.Popen at 0x7fa6b82290f0>"
      ]
     },
     "execution_count": 26,
     "metadata": {},
     "output_type": "execute_result"
    }
   ],
   "source": [
    "args = ['ogr2ogr', '-f', 'ESRI Shapefile', 'export/shp/weekly_accum_evapotranspiration.shp', 'export/weekly_accum_evapotranspiration.geojson']\n",
    "subprocess.Popen(args)"
   ]
  },
  {
   "cell_type": "code",
   "execution_count": 23,
   "metadata": {},
   "outputs": [
    {
     "data": {
      "text/plain": [
       "<subprocess.Popen at 0x7fa6ba265710>"
      ]
     },
     "execution_count": 23,
     "metadata": {},
     "output_type": "execute_result"
    }
   ],
   "source": [
    "args = ['ogr2ogr', '-f', 'ESRI Shapefile', 'export/shp/annualsum_evapotranspiration.shp', 'export/annualsum_evapotranspiration.geojson']\n",
    "subprocess.Popen(args)"
   ]
  },
  {
   "cell_type": "code",
   "execution_count": null,
   "metadata": {},
   "outputs": [],
   "source": [
    "args = ['ogr2ogr', '-f', 'ESRI Shapefile', 'export/shp/weekly_avg_evapotranspiration.shp', 'export/weekly_avg_evapotranspiration.geojson']\n",
    "subprocess.Popen(args)"
   ]
  },
  {
   "cell_type": "code",
   "execution_count": null,
   "metadata": {},
   "outputs": [],
   "source": [
    "args = ['ogr2ogr', '-f', 'ESRI Shapefile', 'export/shp/monthly_evapotranspiration.shp', 'export/monthly_evapotranspiration.geojson']\n",
    "subprocess.Popen(args)"
   ]
  },
  {
   "cell_type": "code",
   "execution_count": null,
   "metadata": {},
   "outputs": [],
   "source": [
    "args = ['ogr2ogr', '-f', 'ESRI Shapefile', 'export/shp/monthly_accum_evapotranspiration.shp', 'export/monthly_accum_evapotranspiration.geojson']\n",
    "subprocess.Popen(args)"
   ]
  },
  {
   "cell_type": "code",
   "execution_count": null,
   "metadata": {},
   "outputs": [],
   "source": [
    "args = ['ogr2ogr', '-f', 'ESRI Shapefile', 'export/shp/monthly_avg_evapotranspiration.shp', 'export/monthly_avg_evapotranspiration.geojson']\n",
    "subprocess.Popen(args)"
   ]
  }
 ],
 "metadata": {
  "kernelspec": {
   "display_name": "Python 3",
   "language": "python",
   "name": "python3"
  },
  "language_info": {
   "codemirror_mode": {
    "name": "ipython",
    "version": 3
   },
   "file_extension": ".py",
   "mimetype": "text/x-python",
   "name": "python",
   "nbconvert_exporter": "python",
   "pygments_lexer": "ipython3",
   "version": "3.7.3"
  }
 },
 "nbformat": 4,
 "nbformat_minor": 4
}
